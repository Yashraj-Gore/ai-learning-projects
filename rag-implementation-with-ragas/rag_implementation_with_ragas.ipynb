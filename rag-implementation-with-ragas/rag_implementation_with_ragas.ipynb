{
 "cells": [
  {
   "cell_type": "markdown",
   "id": "5c87b012-7e8a-4e5e-b636-b9dc48381b35",
   "metadata": {},
   "source": [
    "This Jupyter notebook demonstrates a complete RAG (Retrieval-Augmented Generation) implementation using the BABOK Guide document, with evaluation using the Ragas framework. The implementation covers document ingestion, chunking, vector storage, retrieval, and comprehensive evaluation."
   ]
  },
  {
   "cell_type": "markdown",
   "id": "cd11bf39-faef-4749-8d3f-74e630dbfadb",
   "metadata": {},
   "source": [
    "As part of the initial setup and configuration management, t The python-dotenv package allows loading environment variables from a .env file, which is a secure way to manage API keys and other sensitive configuration data without hardcoding them in the notebooent."
   ]
  },
  {
   "cell_type": "code",
   "execution_count": 39,
   "id": "8fdbd364-1349-4609-8e40-c8a839191388",
   "metadata": {},
   "outputs": [
    {
     "name": "stdout",
     "output_type": "stream",
     "text": [
      "Defaulting to user installation because normal site-packages is not writeable\n",
      "Requirement already satisfied: python-dotenv in c:\\programdata\\anaconda3\\lib\\site-packages (0.21.0)\n"
     ]
    }
   ],
   "source": [
    "!pip install python-dotenv"
   ]
  },
  {
   "cell_type": "markdown",
   "id": "b7af2641-a59d-4c43-b29f-35c3ee061a4b",
   "metadata": {},
   "source": [
    "In the configuration and setup stage, I define the global configuration variables for the PDF file path and the LLM model to be used. This isig do toec Centraleng configuratiowhich n makes the code more maintainable and easier to modify. These variables will be used throughout the notebook for consistenctup."
   ]
  },
  {
   "cell_type": "code",
   "execution_count": 41,
   "id": "2aee95ca-bfdc-46b8-8a30-c51ff058c6c7",
   "metadata": {},
   "outputs": [],
   "source": [
    "PDF_FILE = r\"BABOK-Guide-v3-Member.pdf\"\n",
    "MODEL = \"gpt-5-mini\""
   ]
  },
  {
   "cell_type": "markdown",
   "id": "a783df31-90e5-401e-8346-80f850bbe96a",
   "metadata": {},
   "source": [
    "This comprehensive installation step brings in all necessary dependencies including LangChain for the RAG framework, PyPDF for document processing, FAISS for vector search, and Ragas for evaluation, establishing the complete toolkit needed for the implementation."
   ]
  },
  {
   "cell_type": "code",
   "execution_count": 43,
   "id": "c9b35c5e-8e85-45c7-ae20-172ade67c914",
   "metadata": {},
   "outputs": [
    {
     "name": "stdout",
     "output_type": "stream",
     "text": [
      "Defaulting to user installation because normal site-packages is not writeable\n",
      "Requirement already satisfied: langchain in c:\\users\\goremethi\\appdata\\roaming\\python\\python312\\site-packages (0.3.27)\n",
      "Requirement already satisfied: langchain-community in c:\\users\\goremethi\\appdata\\roaming\\python\\python312\\site-packages (0.3.27)\n",
      "Requirement already satisfied: pypdf in c:\\users\\goremethi\\appdata\\roaming\\python\\python312\\site-packages (5.9.0)\n",
      "Requirement already satisfied: faiss-cpu in c:\\users\\goremethi\\appdata\\roaming\\python\\python312\\site-packages (1.11.0.post1)\n",
      "Requirement already satisfied: langchain-ollama in c:\\users\\goremethi\\appdata\\roaming\\python\\python312\\site-packages (0.3.6)\n",
      "Requirement already satisfied: datasets in c:\\users\\goremethi\\appdata\\roaming\\python\\python312\\site-packages (4.0.0)\n",
      "Requirement already satisfied: ragas in c:\\users\\goremethi\\appdata\\roaming\\python\\python312\\site-packages (0.3.0)\n",
      "Requirement already satisfied: langchain-openai in c:\\users\\goremethi\\appdata\\roaming\\python\\python312\\site-packages (0.3.29)\n",
      "Requirement already satisfied: langchain-core<1.0.0,>=0.3.72 in c:\\users\\goremethi\\appdata\\roaming\\python\\python312\\site-packages (from langchain) (0.3.74)\n",
      "Requirement already satisfied: langchain-text-splitters<1.0.0,>=0.3.9 in c:\\users\\goremethi\\appdata\\roaming\\python\\python312\\site-packages (from langchain) (0.3.9)\n",
      "Requirement already satisfied: langsmith>=0.1.17 in c:\\users\\goremethi\\appdata\\roaming\\python\\python312\\site-packages (from langchain) (0.4.10)\n",
      "Requirement already satisfied: pydantic<3.0.0,>=2.7.4 in c:\\users\\goremethi\\appdata\\roaming\\python\\python312\\site-packages (from langchain) (2.11.7)\n",
      "Requirement already satisfied: SQLAlchemy<3,>=1.4 in c:\\programdata\\anaconda3\\lib\\site-packages (from langchain) (2.0.30)\n",
      "Requirement already satisfied: requests<3,>=2 in c:\\users\\goremethi\\appdata\\roaming\\python\\python312\\site-packages (from langchain) (2.32.3)\n",
      "Requirement already satisfied: PyYAML>=5.3 in c:\\programdata\\anaconda3\\lib\\site-packages (from langchain) (6.0.1)\n",
      "Requirement already satisfied: aiohttp<4.0.0,>=3.8.3 in c:\\programdata\\anaconda3\\lib\\site-packages (from langchain-community) (3.9.5)\n",
      "Requirement already satisfied: tenacity!=8.4.0,<10,>=8.1.0 in c:\\programdata\\anaconda3\\lib\\site-packages (from langchain-community) (8.2.2)\n",
      "Requirement already satisfied: dataclasses-json<0.7,>=0.5.7 in c:\\users\\goremethi\\appdata\\roaming\\python\\python312\\site-packages (from langchain-community) (0.6.7)\n",
      "Requirement already satisfied: pydantic-settings<3.0.0,>=2.4.0 in c:\\users\\goremethi\\appdata\\roaming\\python\\python312\\site-packages (from langchain-community) (2.10.1)\n",
      "Requirement already satisfied: httpx-sse<1.0.0,>=0.4.0 in c:\\users\\goremethi\\appdata\\roaming\\python\\python312\\site-packages (from langchain-community) (0.4.1)\n",
      "Requirement already satisfied: numpy>=1.26.2 in c:\\programdata\\anaconda3\\lib\\site-packages (from langchain-community) (1.26.4)\n",
      "Requirement already satisfied: packaging in c:\\programdata\\anaconda3\\lib\\site-packages (from faiss-cpu) (23.2)\n",
      "Requirement already satisfied: ollama<1.0.0,>=0.5.1 in c:\\users\\goremethi\\appdata\\roaming\\python\\python312\\site-packages (from langchain-ollama) (0.5.1)\n",
      "Requirement already satisfied: filelock in c:\\programdata\\anaconda3\\lib\\site-packages (from datasets) (3.13.1)\n",
      "Requirement already satisfied: pyarrow>=15.0.0 in c:\\users\\goremethi\\appdata\\roaming\\python\\python312\\site-packages (from datasets) (21.0.0)\n",
      "Requirement already satisfied: dill<0.3.9,>=0.3.0 in c:\\programdata\\anaconda3\\lib\\site-packages (from datasets) (0.3.8)\n",
      "Requirement already satisfied: pandas in c:\\users\\goremethi\\appdata\\roaming\\python\\python312\\site-packages (from datasets) (2.2.3)\n",
      "Requirement already satisfied: tqdm>=4.66.3 in c:\\programdata\\anaconda3\\lib\\site-packages (from datasets) (4.66.4)\n",
      "Requirement already satisfied: xxhash in c:\\users\\goremethi\\appdata\\roaming\\python\\python312\\site-packages (from datasets) (3.5.0)\n",
      "Requirement already satisfied: multiprocess<0.70.17 in c:\\users\\goremethi\\appdata\\roaming\\python\\python312\\site-packages (from datasets) (0.70.16)\n",
      "Requirement already satisfied: fsspec<=2025.3.0,>=2023.1.0 in c:\\programdata\\anaconda3\\lib\\site-packages (from fsspec[http]<=2025.3.0,>=2023.1.0->datasets) (2024.3.1)\n",
      "Requirement already satisfied: huggingface-hub>=0.24.0 in c:\\users\\goremethi\\appdata\\roaming\\python\\python312\\site-packages (from datasets) (0.34.3)\n",
      "Requirement already satisfied: tiktoken in c:\\users\\goremethi\\appdata\\roaming\\python\\python312\\site-packages (from ragas) (0.11.0)\n",
      "Requirement already satisfied: nest-asyncio in c:\\programdata\\anaconda3\\lib\\site-packages (from ragas) (1.6.0)\n",
      "Requirement already satisfied: appdirs in c:\\programdata\\anaconda3\\lib\\site-packages (from ragas) (1.4.4)\n",
      "Requirement already satisfied: openai>1 in c:\\users\\goremethi\\appdata\\roaming\\python\\python312\\site-packages (from ragas) (1.99.6)\n",
      "Requirement already satisfied: diskcache>=5.6.3 in c:\\users\\goremethi\\appdata\\roaming\\python\\python312\\site-packages (from ragas) (5.6.3)\n",
      "Requirement already satisfied: aiosignal>=1.1.2 in c:\\programdata\\anaconda3\\lib\\site-packages (from aiohttp<4.0.0,>=3.8.3->langchain-community) (1.2.0)\n",
      "Requirement already satisfied: attrs>=17.3.0 in c:\\programdata\\anaconda3\\lib\\site-packages (from aiohttp<4.0.0,>=3.8.3->langchain-community) (23.1.0)\n",
      "Requirement already satisfied: frozenlist>=1.1.1 in c:\\programdata\\anaconda3\\lib\\site-packages (from aiohttp<4.0.0,>=3.8.3->langchain-community) (1.4.0)\n",
      "Requirement already satisfied: multidict<7.0,>=4.5 in c:\\programdata\\anaconda3\\lib\\site-packages (from aiohttp<4.0.0,>=3.8.3->langchain-community) (6.0.4)\n",
      "Requirement already satisfied: yarl<2.0,>=1.0 in c:\\programdata\\anaconda3\\lib\\site-packages (from aiohttp<4.0.0,>=3.8.3->langchain-community) (1.9.3)\n",
      "Requirement already satisfied: marshmallow<4.0.0,>=3.18.0 in c:\\users\\goremethi\\appdata\\roaming\\python\\python312\\site-packages (from dataclasses-json<0.7,>=0.5.7->langchain-community) (3.26.1)\n",
      "Requirement already satisfied: typing-inspect<1,>=0.4.0 in c:\\users\\goremethi\\appdata\\roaming\\python\\python312\\site-packages (from dataclasses-json<0.7,>=0.5.7->langchain-community) (0.9.0)\n",
      "Requirement already satisfied: typing-extensions>=3.7.4.3 in c:\\users\\goremethi\\appdata\\roaming\\python\\python312\\site-packages (from huggingface-hub>=0.24.0->datasets) (4.14.1)\n",
      "Requirement already satisfied: jsonpatch<2.0,>=1.33 in c:\\programdata\\anaconda3\\lib\\site-packages (from langchain-core<1.0.0,>=0.3.72->langchain) (1.33)\n",
      "Requirement already satisfied: httpx<1,>=0.23.0 in c:\\users\\goremethi\\appdata\\roaming\\python\\python312\\site-packages (from langsmith>=0.1.17->langchain) (0.28.1)\n",
      "Requirement already satisfied: orjson>=3.9.14 in c:\\users\\goremethi\\appdata\\roaming\\python\\python312\\site-packages (from langsmith>=0.1.17->langchain) (3.11.1)\n",
      "Requirement already satisfied: requests-toolbelt>=1.0.0 in c:\\programdata\\anaconda3\\lib\\site-packages (from langsmith>=0.1.17->langchain) (1.0.0)\n",
      "Requirement already satisfied: zstandard>=0.23.0 in c:\\users\\goremethi\\appdata\\roaming\\python\\python312\\site-packages (from langsmith>=0.1.17->langchain) (0.23.0)\n",
      "Requirement already satisfied: anyio<5,>=3.5.0 in c:\\programdata\\anaconda3\\lib\\site-packages (from openai>1->ragas) (4.2.0)\n",
      "Requirement already satisfied: distro<2,>=1.7.0 in c:\\programdata\\anaconda3\\lib\\site-packages (from openai>1->ragas) (1.9.0)\n",
      "Requirement already satisfied: jiter<1,>=0.4.0 in c:\\users\\goremethi\\appdata\\roaming\\python\\python312\\site-packages (from openai>1->ragas) (0.8.2)\n",
      "Requirement already satisfied: sniffio in c:\\programdata\\anaconda3\\lib\\site-packages (from openai>1->ragas) (1.3.0)\n",
      "Requirement already satisfied: annotated-types>=0.6.0 in c:\\programdata\\anaconda3\\lib\\site-packages (from pydantic<3.0.0,>=2.7.4->langchain) (0.6.0)\n",
      "Requirement already satisfied: pydantic-core==2.33.2 in c:\\users\\goremethi\\appdata\\roaming\\python\\python312\\site-packages (from pydantic<3.0.0,>=2.7.4->langchain) (2.33.2)\n",
      "Requirement already satisfied: typing-inspection>=0.4.0 in c:\\users\\goremethi\\appdata\\roaming\\python\\python312\\site-packages (from pydantic<3.0.0,>=2.7.4->langchain) (0.4.1)\n",
      "Requirement already satisfied: python-dotenv>=0.21.0 in c:\\programdata\\anaconda3\\lib\\site-packages (from pydantic-settings<3.0.0,>=2.4.0->langchain-community) (0.21.0)\n",
      "Requirement already satisfied: charset-normalizer<4,>=2 in c:\\programdata\\anaconda3\\lib\\site-packages (from requests<3,>=2->langchain) (2.0.4)\n",
      "Requirement already satisfied: idna<4,>=2.5 in c:\\programdata\\anaconda3\\lib\\site-packages (from requests<3,>=2->langchain) (3.7)\n",
      "Requirement already satisfied: urllib3<3,>=1.21.1 in c:\\programdata\\anaconda3\\lib\\site-packages (from requests<3,>=2->langchain) (2.2.2)\n",
      "Requirement already satisfied: certifi>=2017.4.17 in c:\\programdata\\anaconda3\\lib\\site-packages (from requests<3,>=2->langchain) (2024.7.4)\n",
      "Requirement already satisfied: greenlet!=0.4.17 in c:\\programdata\\anaconda3\\lib\\site-packages (from SQLAlchemy<3,>=1.4->langchain) (3.0.1)\n",
      "Requirement already satisfied: regex>=2022.1.18 in c:\\programdata\\anaconda3\\lib\\site-packages (from tiktoken->ragas) (2023.10.3)\n",
      "Requirement already satisfied: colorama in c:\\programdata\\anaconda3\\lib\\site-packages (from tqdm>=4.66.3->datasets) (0.4.6)\n",
      "Requirement already satisfied: python-dateutil>=2.8.2 in c:\\programdata\\anaconda3\\lib\\site-packages (from pandas->datasets) (2.9.0.post0)\n",
      "Requirement already satisfied: pytz>=2020.1 in c:\\programdata\\anaconda3\\lib\\site-packages (from pandas->datasets) (2024.1)\n",
      "Requirement already satisfied: tzdata>=2022.7 in c:\\programdata\\anaconda3\\lib\\site-packages (from pandas->datasets) (2023.3)\n",
      "Requirement already satisfied: httpcore==1.* in c:\\programdata\\anaconda3\\lib\\site-packages (from httpx<1,>=0.23.0->langsmith>=0.1.17->langchain) (1.0.2)\n",
      "Requirement already satisfied: h11<0.15,>=0.13 in c:\\programdata\\anaconda3\\lib\\site-packages (from httpcore==1.*->httpx<1,>=0.23.0->langsmith>=0.1.17->langchain) (0.14.0)\n",
      "Requirement already satisfied: jsonpointer>=1.9 in c:\\programdata\\anaconda3\\lib\\site-packages (from jsonpatch<2.0,>=1.33->langchain-core<1.0.0,>=0.3.72->langchain) (2.1)\n",
      "Requirement already satisfied: six>=1.5 in c:\\programdata\\anaconda3\\lib\\site-packages (from python-dateutil>=2.8.2->pandas->datasets) (1.16.0)\n",
      "Requirement already satisfied: mypy-extensions>=0.3.0 in c:\\programdata\\anaconda3\\lib\\site-packages (from typing-inspect<1,>=0.4.0->dataclasses-json<0.7,>=0.5.7->langchain-community) (1.0.0)\n"
     ]
    }
   ],
   "source": [
    "!pip install langchain langchain-community pypdf faiss-cpu langchain-ollama datasets ragas langchain-openai"
   ]
  },
  {
   "cell_type": "markdown",
   "id": "b65e9c30-2f61-468e-9f71-31b6da653cd6",
   "metadata": {},
   "source": [
    "The notebook securely loads environment variables using dotenv and retrieves the OpenAI API key, then confirms successful loading with a boolean check, ensuring authenticated access to OpenAI's services."
   ]
  },
  {
   "cell_type": "code",
   "execution_count": 45,
   "id": "182cb51f-94ee-4a5e-8375-ae147b5e8f9c",
   "metadata": {},
   "outputs": [
    {
     "name": "stdout",
     "output_type": "stream",
     "text": [
      "API key loaded successfully: True\n"
     ]
    }
   ],
   "source": [
    "import os\n",
    "from dotenv import load_dotenv\n",
    "\n",
    "# Load environment variables from .env file\n",
    "load_dotenv()\n",
    "\n",
    "# Access api key\n",
    "openai_api_key = os.getenv(\"OPENAI_API_KEY\")\n",
    "\n",
    "print(\"API key loaded successfully:\", bool(openai_api_key))"
   ]
  },
  {
   "cell_type": "markdown",
   "id": "6f34b6f3-1c2c-48ba-89aa-086e07eda9ad",
   "metadata": {},
   "source": [
    "Using LangChain's PyPDFLoader, this cell ingests the 514-page BABOK Guide PDF and extracts text content from each page, creating the foundational document collection that will serve as the knowledge base for the RAG system."
   ]
  },
  {
   "cell_type": "code",
   "execution_count": 47,
   "id": "e0e5d175-967c-4f71-bd46-01b364001617",
   "metadata": {},
   "outputs": [
    {
     "name": "stdout",
     "output_type": "stream",
     "text": [
      "Number of pages: 514\n",
      "Length of a page: 0\n",
      "Content of a page: \n"
     ]
    }
   ],
   "source": [
    "from langchain_community.document_loaders import PyPDFLoader\n",
    "\n",
    "loader = PyPDFLoader(PDF_FILE)\n",
    "pages = loader.load()\n",
    "\n",
    "print(f\"Number of pages: {len(pages)}\")\n",
    "print(f\"Length of a page: {len(pages[1].page_content)}\")\n",
    "print(\"Content of a page:\", pages[1].page_content)"
   ]
  },
  {
   "cell_type": "markdown",
   "id": "1fa381b2-0ca3-412a-a72c-a2880c64c45b",
   "metadata": {},
   "source": [
    "The RecursiveCharacterTextSplitter breaks the large document into 949 manageable chunks of 1500 characters each with 100-character overlap, optimizing the text for both vector embedding generation and LLM context window constraints."
   ]
  },
  {
   "cell_type": "code",
   "execution_count": 49,
   "id": "763bd9ec-a704-4704-b929-f0e56f92e800",
   "metadata": {},
   "outputs": [
    {
     "name": "stdout",
     "output_type": "stream",
     "text": [
      "Number of chunks: 949\n",
      "Length of a chunk: 62\n",
      "Content of a chunk: BABOK\n",
      "®\n",
      "v3\n",
      "A GUIDE TO THE BUSINESS ANALYSIS\n",
      "BODY OF KNOWLEDGE®\n"
     ]
    }
   ],
   "source": [
    "from langchain_text_splitters import RecursiveCharacterTextSplitter\n",
    "\n",
    "splitter = RecursiveCharacterTextSplitter(chunk_size=1500, chunk_overlap=100)\n",
    "\n",
    "chunks = splitter.split_documents(pages)\n",
    "print(f\"Number of chunks: {len(chunks)}\")\n",
    "print(f\"Length of a chunk: {len(chunks[1].page_content)}\")\n",
    "print(\"Content of a chunk:\", chunks[1].page_content)"
   ]
  },
  {
   "cell_type": "markdown",
   "id": "eeb01ff2-2c6c-4089-9f66-f7e840a0b2e6",
   "metadata": {},
   "source": [
    "This cell converts all text chunks into numerical embeddings using OpenAI's text-embedding-3-small model and stores them in a FAISS vector database, creating the semantic search foundation that enables similarity-based document retrieval."
   ]
  },
  {
   "cell_type": "code",
   "execution_count": 51,
   "id": "661fcef7-2c7f-4f2a-83f3-b25b7d7ebc58",
   "metadata": {},
   "outputs": [],
   "source": [
    "from langchain.vectorstores import FAISS\n",
    "from langchain_openai import OpenAIEmbeddings\n",
    "\n",
    "embeddings = OpenAIEmbeddings(model=\"text-embedding-3-small\")\n",
    "vectorstore = FAISS.from_documents(chunks, embeddings)"
   ]
  },
  {
   "cell_type": "markdown",
   "id": "509130bf-a46e-439a-9192-829f88f84bab",
   "metadata": {},
   "source": [
    "The notebook creates a retriever interface from the vector store and tests it with a query about \"requirement elicitation,\" validating that the system can successfully find and return relevant document chunks based on semantic similarity."
   ]
  },
  {
   "cell_type": "code",
   "execution_count": 52,
   "id": "4dd2066c-ea5a-4b21-b451-3def102396c7",
   "metadata": {},
   "outputs": [
    {
     "data": {
      "text/plain": [
       "[Document(id='b1b3b79c-f827-45a3-8618-92720e892dfb', metadata={'producer': 'Acrobat Distiller 11.0 (Windows)', 'creator': 'FrameMaker 12.0.2', 'creationdate': '2015-11-26T10:29:02+00:00', 'author': 'IIBA', 'moddate': '2020-03-27T14:56:48+07:00', 'title': 'BABOK Guide v3', 'webstatement': 'www.iiba.org', 'source': 'BABOK-Guide-v3-Member.pdf', 'total_pages': 514, 'page': 70, 'page_label': '71'}, page_content='from people or documents—because it is unknown. Experiments can help \\ndiscover this kind of information. Experiments include observational studies, \\nproofs of concept, and prototypes.\\nOne or more elicitation techniques may be used to produce the desired outcome \\nwithin the scope of elicitation.\\nStakeholders may collaborate in elicitation by:\\n• participating and interacting during the elicitation activity, and\\n• researching, studying, and providing feedback on documents, systems, \\nmodels, and interfaces.\\n4.2.3 Inputs\\n• Elicitation Activity Plan: includes the planned elicitation activities and \\ntechniques, activity logistics (for example, date, time, location, resources,'),\n",
       " Document(id='1460089b-c86e-4416-aecc-68773e0c4042', metadata={'producer': 'Acrobat Distiller 11.0 (Windows)', 'creator': 'FrameMaker 12.0.2', 'creationdate': '2015-11-26T10:29:02+00:00', 'author': 'IIBA', 'moddate': '2020-03-27T14:56:48+07:00', 'title': 'BABOK Guide v3', 'webstatement': 'www.iiba.org', 'source': 'BABOK-Guide-v3-Member.pdf', 'total_pages': 514, 'page': 146, 'page_label': '147'}, page_content='Requirements\\n4.2, 4.3\\nElicitation Results\\n(any state)\\nModelling Tools\\nRequirements Architecture\\nRequirements Life Cycle \\nManagement Tools\\nSolution Scope\\n7.3 \\nValidate \\nRequirements\\nGuidelines and Tools\\n7.1\\nSpecify and Model \\nRequirements\\nInput'),\n",
       " Document(id='b44a1953-37e0-4d08-b137-8603e40eafaf', metadata={'producer': 'Acrobat Distiller 11.0 (Windows)', 'creator': 'FrameMaker 12.0.2', 'creationdate': '2015-11-26T10:29:02+00:00', 'author': 'IIBA', 'moddate': '2020-03-27T14:56:48+07:00', 'title': 'BABOK Guide v3', 'webstatement': 'www.iiba.org', 'source': 'BABOK-Guide-v3-Member.pdf', 'total_pages': 514, 'page': 459, 'page_label': '460'}, page_content=\"request for information (RFI): A formal elicitation method intended to collect \\ninformation regarding a vendor's capabilities or any other information \\nrelevant to a potential upcoming procurement.\\nrequest for proposal (RFP): A requirements document issued when an \\norganization is seeking a formal proposal from vendors. An RFP typically \\nrequires that the proposals be submitted following a specific process and \\nusing sealed bids which will be evaluated against a formal evaluation \\nmethodology.\\nrequest for quote (RFQ): A procurement method of soliciting price and solution \\noptions from vendors.\\nrequest for tender (RFT): An open invitation to vendors to submit a proposal for \\ngoods or services.\\nrequirement: A usable representation of a need.\\nrequirements attribute: A characteristic or property of a requirement used to \\nassist with requirements management.\"),\n",
       " Document(id='f0482471-4e6a-40c1-8517-c545211fe421', metadata={'producer': 'Acrobat Distiller 11.0 (Windows)', 'creator': 'FrameMaker 12.0.2', 'creationdate': '2015-11-26T10:29:02+00:00', 'author': 'IIBA', 'moddate': '2020-03-27T14:56:48+07:00', 'title': 'BABOK Guide v3', 'webstatement': 'www.iiba.org', 'source': 'BABOK-Guide-v3-Member.pdf', 'total_pages': 514, 'page': 70, 'page_label': '71'}, page_content='Elicitation and Collaboration Conduct Elicitation\\n61\\nComplimentary IIBA® Member Copy. Not for Distribution or Resale.\\n• Project Manager: ensures that the appropriate people and resources are \\navailable to conduct the elicitation.\\n• Sponsor: has the authority to approve or deny a planned elicitation event, and \\nto authorize and require the participation of specific stakeholders.\\n4.1.8 Outputs\\n• Elicitation Activity Plan: used for each elicitation activity. It includes logistics, \\nscope of the elicitation activity, selected techniques, and supporting materials.\\n4.2 Conduct Elicitation\\n4.2.1 Purpose\\nThe purpose of Conduct Elicitation is to draw out, explore, and identify \\ninformation relevant to the change.\\n4.2.2 Description\\nThere are three common types of elicitation:\\n• Collaborative: involves direct interaction with stakeholders, and relies on \\ntheir experiences, expertise, and judgment.\\n• Research: involves systematically discovering and studying information \\nfrom materials or sources that are not directly known by stakeholders \\ninvolved in the change. Stakeholders might still participate in the research. \\nResearch can include data analysis of historical data to identify trends or \\npast results.\\n• Experiments: involves identifying information that could not be known \\nwithout some sort of controlled test. Some information cannot be drawn \\nfrom people or documents—because it is unknown. Experiments can help')]"
      ]
     },
     "execution_count": 52,
     "metadata": {},
     "output_type": "execute_result"
    }
   ],
   "source": [
    "retriever = vectorstore.as_retriever()\n",
    "retriever.invoke(\"What is requirement elicitation?\")"
   ]
  },
  {
   "cell_type": "markdown",
   "id": "90cf9cd7-3723-4ba9-9693-7c85d2688aba",
   "metadata": {},
   "source": [
    "Here, the ChatOpenAI model is initialized with the specified \"gpt-5-mini\" configuration and temperature set to 0 for deterministic responses, then tested with a stakeholder identification query to confirm proper model functionality."
   ]
  },
  {
   "cell_type": "code",
   "execution_count": 53,
   "id": "1b1f43bb-7397-4e95-9266-9a23f35df276",
   "metadata": {},
   "outputs": [
    {
     "data": {
      "text/plain": [
       "AIMessage(content='Below is a practical list of important stakeholders to consider when gathering requirements, grouped by role/type with a short note on why they matter and one or two sample questions to ask each.\\n\\nPrimary stakeholders (directly define/use the system)\\n- Business sponsor / project owner — Funds and defines high-level objectives.\\n  - Why: Sets priorities, scope, success criteria.\\n  - Ask: What business outcomes must this deliver? What are the non‑negotiables?\\n- Product owner / product manager — Responsible for product vision and backlog.\\n  - Why: Translates strategy to prioritized features.\\n  - Ask: Who are the target users and what problems do we solve first?\\n- End users (internal and external) — People who will use the product day‑to‑day.\\n  - Why: Their workflows and pain points determine functional requirements.\\n  - Ask: What tasks do you need to accomplish? What frustrates you today?\\n- Customers / buyers — Those who purchase or decide to adopt the product.\\n  - Why: Their needs and buying criteria affect features, pricing, and SLAs.\\n  - Ask: What value must this provide for you to purchase/adopt it?\\n\\nKey internal stakeholders (build, operate, support)\\n- Development team / engineers — Implement features and constraints.\\n  - Why: Provide feasibility, technical constraints, and effort estimates.\\n  - Ask: What technical limitations or opportunities should we consider?\\n- UX / design team — Drive usability, accessibility, and interaction design.\\n  - Why: Ensure product is usable and meets accessibility standards.\\n  - Ask: Who are the personas and what are their main journeys?\\n- QA / test engineers — Ensure the requirements are testable and verifiable.\\n  - Why: Can identify ambiguous or missing acceptance criteria.\\n  - Ask: How will success be tested? What edge cases worry you?\\n- Operations / IT / DevOps — Deploy, monitor, and maintain the system.\\n  - Why: Define operational requirements, hosting, backups, SLAs.\\n  - Ask: What are availability, scaling, and monitoring needs?\\n- Security / information security officer — Protect data and systems.\\n  - Why: Define authentication, authorization, encryption, and threat controls.\\n  - Ask: What regulatory or internal security standards apply?\\n- Data owners / data architects — Own data definitions, integration & quality.\\n  - Why: Ensure data sources, privacy, retention, and lineage are correct.\\n  - Ask: What data must be captured, shared, or protected?\\n- Solution / enterprise architects — Ensure alignment with architecture vision.\\n  - Why: Prevent siloed designs and ensure reuse/compatibility.\\n  - Ask: How must this integrate with existing systems and standards?\\n- Project manager / delivery manager — Coordinates scope, timeline, resources.\\n  - Why: Manages constraints and stakeholder expectations.\\n  - Ask: What are the fixed deadlines, budget constraints, and milestones?\\n\\nBusiness & organizational stakeholders\\n- Executives / senior leadership — Strategic direction and funding decisions.\\n  - Why: Provide long-term priorities and constraints.\\n  - Ask: How does this align with corporate strategy and KPIs?\\n- Finance — Budgeting, cost justification, and ROI concerns.\\n  - Why: Influence scope via cost/benefit and procurement requirements.\\n  - Ask: What budget and ROI targets must this meet?\\n- Legal / compliance / privacy — Regulatory, contractual and policy compliance.\\n  - Why: Identify legal restrictions, required clauses, and audit needs.\\n  - Ask: What regulations, contracts, or data privacy rules apply?\\n- Procurement / vendor management — Procurement processes and vendor terms.\\n  - Why: Affect contracting, SLAs and third‑party relationships.\\n  - Ask: What procurement rules, timelines, and vendor constraints exist?\\n- Sales / marketing — Market fit, go‑to‑market and messaging needs.\\n  - Why: Influence feature prioritization and competitive differentiators.\\n  - Ask: What customer objections must we address? What features sell best?\\n- Customer support / customer success — Post‑release support and retention.\\n  - Why: Speak to common user issues, documentation and training needs.\\n  - Ask: What support scenarios are common and what tooling is required?\\n- Training / change management / HR — Adoption, training and role readiness.\\n  - Why: Ensure users can transition and use the product effectively.\\n  - Ask: What training and change management will be needed?\\n\\nExternal stakeholders & ecosystem\\n- Third‑party vendors / system integrators — Provide components or services.\\n  - Why: Define APIs, SLAs, licensing and integration constraints.\\n  - Ask: What interfaces, data formats and support levels will you provide?\\n- Regulators / industry bodies — Impose mandatory rules or standards.\\n  - Why: Non‑compliance can halt or penalize the project.\\n  - Ask: What regulations/standards must we satisfy and how are they assessed?\\n- Partners / resellers — Influence product requirements for market fit.\\n  - Why: May need customizations, reporting, or integration for distribution.\\n  - Ask: What customizations/integrations are required for partners?\\n- Investors / board (if relevant) — Set high‑level expectations and risk appetite.\\n  - Why: May push priorities (growth, speed to market, risk tolerance).\\n  - Ask: Which tradeoffs (speed vs. risk) are acceptable?\\n\\nOther important roles\\n- Accessibility / inclusion advocates — Ensure accessibility and inclusive design.\\n  - Why: Legal and usability implications for diverse users.\\n  - Ask: What accessibility standards and personas must we support?\\n- Data protection officer / privacy officer — GDPR/PDPA guidance and DPIAs.\\n  - Why: Critical for personal data handling, consent, and breach response.\\n  - Ask: What personal data will be stored and what consent is required?\\n- Community / user groups / advisory boards — Feedback and early validation.\\n  - Why: Provide real-world feedback and use cases.\\n  - Ask: What features are most requested or valued by users?\\n- Maintenance / support contractors — Long‑term maintenance knowledge.\\n  - Why: Influence design for maintainability, upgradeability and cost.\\n  - Ask: What maintenance windows and constraints must we design for?\\n\\nQuick checklist for stakeholder discovery\\n- Have you identified both direct users and indirect/institutional stakeholders?\\n- Have you captured constraints from legal, security, finance, and ops early?\\n- Did you include external partners, vendors and regulators who affect scope?\\n- Can each stakeholder answer how they will measure success and their priorities?\\n\\nIf you’d like, I can:\\n- Tailor this list to a specific industry (finance, healthcare, SaaS, government).\\n- Produce a stakeholder interview template or a prioritized stakeholder map.', additional_kwargs={'refusal': None}, response_metadata={'token_usage': {'completion_tokens': 1621, 'prompt_tokens': 17, 'total_tokens': 1638, 'completion_tokens_details': {'accepted_prediction_tokens': 0, 'audio_tokens': 0, 'reasoning_tokens': 256, 'rejected_prediction_tokens': 0}, 'prompt_tokens_details': {'audio_tokens': 0, 'cached_tokens': 0}}, 'model_name': 'gpt-5-mini-2025-08-07', 'system_fingerprint': None, 'id': 'chatcmpl-C7T7ZlO90kOSL7uQKLLOTQqSEmi5t', 'service_tier': 'default', 'finish_reason': 'stop', 'logprobs': None}, id='run--7fcd9913-5be0-41b4-a36d-a76a1bd66d73-0', usage_metadata={'input_tokens': 17, 'output_tokens': 1621, 'total_tokens': 1638, 'input_token_details': {'audio': 0, 'cache_read': 0}, 'output_token_details': {'audio': 0, 'reasoning': 256}})"
      ]
     },
     "execution_count": 53,
     "metadata": {},
     "output_type": "execute_result"
    }
   ],
   "source": [
    "from langchain_openai import ChatOpenAI\n",
    "\n",
    "model = ChatOpenAI(model=MODEL, temperature=0)\n",
    "model.invoke(\"Create a list of important stakeholders to consider in requirement gathering\")"
   ]
  },
  {
   "cell_type": "markdown",
   "id": "0ebb7f4a-dc61-4245-934c-75e6d64e792b",
   "metadata": {},
   "source": [
    "This cell introduces a string output parser and chains it with the language model using the pipe operator, ensuring that model responses are consistently formatted as clean strings for downstream processing."
   ]
  },
  {
   "cell_type": "code",
   "execution_count": 54,
   "id": "5f91009b-c3bd-46ba-9d96-5b0efd8302b4",
   "metadata": {},
   "outputs": [
    {
     "name": "stdout",
     "output_type": "stream",
     "text": [
      "Here’s a concise, practical list of important stakeholders to consider when gathering requirements, grouped and with a short note on their typical role or interest:\n",
      "\n",
      "Primary users\n",
      "- End users (primary) — people who will use the product day-to-day; their tasks and pain points are critical.\n",
      "- Secondary/occasional users — use it less often but impose important needs or constraints.\n",
      "- Power users/administrators — configure, manage or extend the system.\n",
      "\n",
      "Business and management\n",
      "- Product owner / product manager — defines product vision and prioritizes features.\n",
      "- Business sponsor / executive sponsor — funds and champions the project; sets strategic goals.\n",
      "- Business owners / process owners — accountable for business outcomes and processes affected.\n",
      "\n",
      "Technical and delivery\n",
      "- Project manager / delivery manager — coordinates delivery, schedule, and resources.\n",
      "- Developers / engineers — estimate feasibility, constraints, and technical implications.\n",
      "- Architects / solution architects — define system design and integration approach.\n",
      "- QA / test engineers — define testability and quality requirements.\n",
      "- Operations / DevOps / infrastructure team — run and support the system in production.\n",
      "- Database administrators / network engineers — performance, security, and availability constraints.\n",
      "\n",
      "Domain and subject matter\n",
      "- Subject matter experts (SMEs) — domain knowledge, rules, and exceptions.\n",
      "- Data analysts / data owners — data requirements, reporting and data quality issues.\n",
      "- Regulatory / compliance officers — legal, regulatory and audit requirements.\n",
      "- Security / privacy officers — security controls, privacy, and data-protection needs.\n",
      "\n",
      "Customer-facing and support\n",
      "- Customer support / helpdesk — supportability, logging, and diagnostability needs.\n",
      "- Sales / marketing / customer success — customer expectations, positioning, and SLAs.\n",
      "- Customers / clients (external) — paying customers; their contractual requirements and expectations.\n",
      "\n",
      "External parties and vendors\n",
      "- Third-party vendors / integration partners — APIs, SLA constraints, licensing.\n",
      "- Contractors / consultants — deliverables and constraints they introduce.\n",
      "- Regulators / government agencies — mandatory compliance and reporting requirements.\n",
      "- Industry bodies / standards organizations — standards to follow (if applicable).\n",
      "\n",
      "Organization-wide / other\n",
      "- Legal counsel — contractual language, IP, terms of use.\n",
      "- Finance / procurement — budgeting, cost constraints, procurement rules.\n",
      "- Human resources / training — onboarding, training, and change management.\n",
      "- Accessibility advocates / disability advisors — accessibility and inclusive design needs.\n",
      "- Localization / internationalization team — language and cultural requirements.\n",
      "\n",
      "Quick tips\n",
      "- Not all stakeholders apply to every project; identify those relevant and prioritize by influence/impact.\n",
      "- Use stakeholder mapping (power/interest grid) and RACI to decide who to consult, inform, or sign off.\n",
      "- Validate requirements with representative stakeholders (especially end users and SMEs) early and often.\n",
      "\n",
      "If you want, I can tailor this list for a specific project type (web app, enterprise ERP, mobile app, healthcare, etc.).\n"
     ]
    }
   ],
   "source": [
    "from langchain_core.output_parsers import StrOutputParser\n",
    "\n",
    "parser = StrOutputParser()\n",
    "\n",
    "chain = model | parser \n",
    "print(chain.invoke(\"Create a list of important stakeholders to consider in requirement gathering\"))"
   ]
  },
  {
   "cell_type": "markdown",
   "id": "d8fdadb4-338c-4ddc-8a00-bfe738c5e2e9",
   "metadata": {},
   "source": [
    "A prompt template is created that instructs the LLM to answer questions exclusively using provided context, explicitly preventing hallucination and ensuring all responses are grounded in the retrieved documents."
   ]
  },
  {
   "cell_type": "code",
   "execution_count": 61,
   "id": "7e96d769-b181-40f8-805a-c15a3f22b7ad",
   "metadata": {},
   "outputs": [
    {
     "name": "stdout",
     "output_type": "stream",
     "text": [
      "\n",
      "You are a business analyst assistant that provides answers to questions \n",
      "*only* using the information provided in the context below.\n",
      "\n",
      "- If the context does not contain enough information, explicitly state: \n",
      "  \"The context does not provide this information.\"\n",
      "- Do not add knowledge from outside the context.\n",
      "- When lists are expected, clearly list each item as it appears in the context\n",
      "\n",
      "Context: Here is some context\n",
      "\n",
      "Question: Here is a question\n",
      "\n"
     ]
    }
   ],
   "source": [
    "from langchain.prompts import PromptTemplate\n",
    "\n",
    "template = \"\"\"\n",
    "You are a business analyst assistant that provides answers to questions \n",
    "*only* using the information provided in the context below.\n",
    "\n",
    "- If the context does not contain enough information, explicitly state: \n",
    "  \"The context does not provide this information.\"\n",
    "- Do not add knowledge from outside the context.\n",
    "- When lists are expected, clearly list each item as it appears in the context\n",
    "\n",
    "Context: {context}\n",
    "\n",
    "Question: {question}\n",
    "\"\"\"\n",
    "\n",
    "prompt = PromptTemplate.from_template(template)\n",
    "print(prompt.format(context=\"Here is some context\", question=\"Here is a question\"))"
   ]
  },
  {
   "cell_type": "markdown",
   "id": "7c13da52-332e-4178-85b9-ef090b2fd9c2",
   "metadata": {},
   "source": [
    "The prompt template is combined with the model and parser into a complete chain, then tested with a simple context-question pair to verify that the instruction-following and response generation work correctly before full integration."
   ]
  },
  {
   "cell_type": "code",
   "execution_count": 63,
   "id": "9f55a663-99dd-4516-9dd0-31784a49cc06",
   "metadata": {},
   "outputs": [
    {
     "data": {
      "text/plain": [
       "\"Harshal's friend is Pankaj.\""
      ]
     },
     "execution_count": 63,
     "metadata": {},
     "output_type": "execute_result"
    }
   ],
   "source": [
    "chain = prompt | model | parser\n",
    "\n",
    "chain.invoke({\n",
    "    \"context\": \"Pankaj is a friend of Harshal\", \n",
    "    \"question\": \"Who is Harshal's friend?\"\n",
    "})"
   ]
  },
  {
   "cell_type": "markdown",
   "id": "aac78dfa-b410-4a67-83ec-9482144f42f0",
   "metadata": {},
   "source": [
    "Using itemgetter to extract questions, this cell constructs the full RAG pipeline where questions trigger document retrieval, retrieved contexts are injected into the prompt template, and the LLM generates contextually grounded responses."
   ]
  },
  {
   "cell_type": "code",
   "execution_count": 65,
   "id": "09ef35ee-a873-4809-bb58-3224be47d82c",
   "metadata": {},
   "outputs": [],
   "source": [
    "from operator import itemgetter\n",
    "\n",
    "chain = (\n",
    "    {\n",
    "        \"context\": itemgetter(\"question\") | retriever,\n",
    "        \"question\": itemgetter(\"question\"),\n",
    "    }\n",
    "    | prompt\n",
    "    | model\n",
    "    | parser\n",
    ")"
   ]
  },
  {
   "cell_type": "markdown",
   "id": "e56bac2a-abbf-4f83-9314-8ee12a479ad6",
   "metadata": {},
   "source": [
    "The complete RAG system is tested with a business analysis question about planning and monitoring challenges, demonstrating the full workflow from query to context-aware answer generation and confirming system functionality."
   ]
  },
  {
   "cell_type": "code",
   "execution_count": 67,
   "id": "cb8fc449-01b6-4be1-8a04-4f16f1130443",
   "metadata": {},
   "outputs": [
    {
     "name": "stdout",
     "output_type": "stream",
     "text": [
      "Question: What are main challenges in Business Planning and Monitoring phase?\n",
      "Answer: The context identifies several challenges in Business Analysis Planning and Monitoring. Listed below as they appear in the context:\n",
      "\n",
      "- Engaging stakeholders presents significant challenges.  \n",
      "- The amount of information available for full planning may be limited in the initial stages (progressive elaboration is common).  \n",
      "- Failure to plan for ongoing monitoring of the effect of changes to the process is a common cause of BPM initiative failure.  \n",
      "- Selecting an appropriate approach along the predictive–adaptive continuum (considering the organization’s standards, tolerance for uncertainty, and previous experience).  \n",
      "- Understanding which stakeholders are relevant to the change, what business analysts need from them, what they need from business analysts, and the best way to collaborate (stakeholder identification and engagement).  \n",
      "- Ensuring decisions are made properly and consistently and that decision makers have the information they need (governance).  \n",
      "- Defining how information developed by business analysts (including requirements…) will be managed (information management).  \n",
      "- Managing requirements, business analysis risk, and allocation of business analysis resources (examples of governance-related concerns).\n",
      "*************************\n",
      "\n"
     ]
    }
   ],
   "source": [
    "questions = [\n",
    "    \"What are main challenges in Business Planning and Monitoring phase?\",\n",
    "]\n",
    "\n",
    "for question in questions:\n",
    "    print(f\"Question: {question}\")\n",
    "    print(f\"Answer: {chain.invoke({'question': question})}\")\n",
    "    print(\"*************************\\n\")\n",
    "     "
   ]
  },
  {
   "cell_type": "markdown",
   "id": "f248200d-fcd5-482f-a9c4-186b2ed1c8cd",
   "metadata": {},
   "source": [
    "A utility function is implemented to build context from retrieved documents while respecting character and document limits, providing essential context size management to stay within LLM token constraints while preserving the most relevant information."
   ]
  },
  {
   "cell_type": "code",
   "execution_count": 69,
   "id": "982ffd4b-fe45-4c6d-a8e6-7b1a52d5866d",
   "metadata": {},
   "outputs": [
    {
     "name": "stdout",
     "output_type": "stream",
     "text": [
      "Context for LLM:\n",
      " Requirements Life Cycle Management\n",
      "76\n",
      "Complimentary IIBA® Member Copy. Not for Distribution or Resale.\n",
      "The states listed \n",
      "here are not \n",
      "intended to be a \n",
      "comprehensive \n",
      "listing.\n",
      "Figure 5.0.1: Requirements Life Cycle Management\n",
      "The Requirements Life Cycle Management knowledge area includes the following \n",
      "tasks:\n",
      "• Trace Requirements: analyzes and maintains the relationships between \n",
      "requirements, designs, solution components, and other work products for \n",
      "impact analysis, coverage, and allocation.\n",
      "• Maintain Requirements: ensures that requirements and designs are \n",
      "accurate and current throughout the life cycle and facilitates reuse where \n",
      "appropriate.\n",
      "• Prioritize Requirements: assesses the value, urgency, and risks associated \n",
      "with particular requirements and designs to ensure that analysis and/or \n",
      "delivery work is done on the most important ones at any given time.\n",
      "• Assess Requirements Changes: evaluates new and changing stakeholder \n",
      "requirements to determine if they need to be acted on within the scope of a \n",
      "change.\n",
      "• Approve Requirements: works with stakeholders involved in the \n",
      "governance process to reach approval and agreement on requirements and \n",
      "designs.\n",
      "The Core Concept Model in Requirements Life Cycle \n",
      "Management\n",
      "The Business Analysis Core Concept Model™ (BACCM™) describes the \n",
      "relationships among the six core concepts.\n",
      "The following table describes the usage and application of each of the core \n",
      "concepts within the context of Requirements Life Cycle Management.\n",
      "\n",
      "Requirements Life Cycle Management\n",
      "77\n",
      "Complimentary IIBA® Member Copy. Not for Distribution or Resale.\n",
      "Table 5.0.1: The Core Concept Model in Requirements Life Cycle Management\n",
      "Core Concept During Requirements Life Cycle \n",
      "Management, business analysts...\n",
      "Change: the act of transformation \n",
      "in response to a need.\n",
      "manage how proposed changes to \n",
      "requirements and designs are evaluated \n",
      "during an initiative.\n",
      "Need: a problem or opportunity to \n",
      "be addressed.\n",
      "trace, prioritize and maintain \n",
      "requirements to ensure that the need is \n",
      "met.\n",
      "Solution: a specific way of \n",
      "satisfying one or more needs in a \n",
      "context.\n",
      "trace requirements and designs to \n",
      "solution components to ensure that the \n",
      "solution satisfies the need.\n",
      "Stakeholder: a group or \n",
      "individual with a relationship to \n",
      "the change, the need, or the \n",
      "solution.\n",
      "work closely with key stakeholders to \n",
      "maintain understanding, agreement, and \n",
      "approval of requirements and designs.\n",
      "Value: the worth, importance, or \n",
      "usefulness of something to a \n",
      "stakeholder within a context.\n",
      "maintain requirements for reuse to extend \n",
      "value beyond the current initiative.\n",
      "Context: the circumstances that \n",
      "influence, are influenced by, and \n",
      "provide understanding of the \n",
      "change.\n",
      "analyze the context to support tracing \n",
      "and prioritization activities.\n",
      "\n",
      "Requirements Life Cycle Management\n",
      "78\n",
      "Complimentary IIBA® Member Copy. Not for Distribution or Resale.\n",
      "Figure 5.0.1: Requirements Life Cycle Management Input/Output Diagram\n",
      "Tasks\n",
      "Output\n",
      "5.3\n",
      "Prioritize \n",
      "Requirements\n",
      "5.2\n",
      "Maintain \n",
      "Requirements\n",
      "5.1\n",
      "Trace \n",
      "Requirements\n",
      "5.4\n",
      "Assess \n",
      "Requirements \n",
      "Changes\n",
      "5.5\n",
      "Approve \n",
      "Requirements\n",
      "Requirements Designs Proposed Change \n",
      "7.2\n",
      "Requirements\n",
      "(verified)\n",
      "5.1\n",
      "Requirements (traced)\n",
      "5.1\n",
      "Designs (traced)\n",
      "5.2 \n",
      "Requirements \n",
      "(maintained)\n",
      "5.3\n",
      "Requirements \n",
      "(prioritized)\n",
      "5.2 \n",
      "Designs (maintained)\n",
      "5.3\n",
      "Designs (prioritized)\n",
      "5.4\n",
      "Designs Change \n",
      "Assessment\n",
      "5.4\n",
      "Requirements Change \n",
      "Assessment\n",
      "5.5\n",
      "Requirements \n",
      "(approved)\n",
      "5.5\n",
      "Designs (approved)\n",
      "Input\n",
      "\n",
      "Within the Requirements Life Cycle Management knowledge area, the concept of \n",
      "a life cycle is separate from a methodology or process used to govern business \n",
      "analysis work. Life cycle refers to the existence of various phases or states that \n",
      "requirements pass through as part of any change. Requirements may be in \n",
      "multiple states at one time.\n"
     ]
    }
   ],
   "source": [
    "# Parameters to control context size\n",
    "CTX_MAX_CHARS = 5000\n",
    "CTX_MAX_DOCS = 5\n",
    "\n",
    "import textwrap\n",
    "\n",
    "def text_wrap(s, width=100):\n",
    "    return \"\\n\".join(textwrap.wrap(str(s), width=width)) if s else \"\"\n",
    "    \n",
    "def build_context(question, retriever, max_docs=CTX_MAX_DOCS, max_chars=CTX_MAX_CHARS):\n",
    "    \"\"\"\n",
    "    Retrieves top-k most relevant documents and returns their concatenated text up to max_chars.\n",
    "    \"\"\"\n",
    "    # Get top-k documents from retriever\n",
    "    docs = retriever.get_relevant_documents(question)[:max_docs]\n",
    "\n",
    "    # Concatenate their contents, respecting max_chars limit\n",
    "    context = \"\"\n",
    "    for doc in docs:\n",
    "        chunk = getattr(doc, \"page_content\", \"\")[:max_chars]\n",
    "        if len(context) + len(chunk) > max_chars:\n",
    "            # Only fill up to max_chars\n",
    "            context += chunk[:max_chars - len(context)]\n",
    "            break\n",
    "        context += chunk + \"\\n\\n\"\n",
    "    return context.strip()\n",
    "\n",
    "# Usage example\n",
    "question = \"What are the core tasks in Requirements Life Cycle Management?\"\n",
    "context = build_context(question, retriever)\n",
    "print(\"Context for LLM:\\n\", context)\n"
   ]
  },
  {
   "cell_type": "markdown",
   "id": "4facbe18-6f66-46fb-8d78-31613627657f",
   "metadata": {},
   "source": [
    "Three evaluation questions covering core BABOK topics are defined along with their corresponding ground truth answers, establishing the benchmark dataset needed for quantitative assessment of the RAG system's performance."
   ]
  },
  {
   "cell_type": "code",
   "execution_count": 71,
   "id": "816e94a2-9022-4bae-be18-6e7fe76889c9",
   "metadata": {},
   "outputs": [],
   "source": [
    "# -----------------------------------------------------------\n",
    "# Evaluation Questions and Ground Truth Answers\n",
    "# -----------------------------------------------------------\n",
    "\n",
    "# List of evaluation questions for the BABOK RAG pipeline.\n",
    "questions = [\n",
    "    \"What are the core tasks in Requirements Life Cycle Management?\",\n",
    "    \"Name key outputs of Plan Business Analysis Approach.\",\n",
    "    \"What are typical elements of stakeholder analysis in BABOK?\",\n",
    "]\n",
    "\n",
    "# Corresponding ground truth answers for the evaluation questions.\n",
    "ground_truth_answers = [\n",
    "    \"Trace requirements; Maintain requirements; Prioritize requirements; Assess changes; Approve requirements\",\n",
    "    \"Business analysis approach; Stakeholder engagement approach; Governance approach; Information management approach; BA performance assessment approach\",\n",
    "    \"Stakeholder roles; Stakeholder attitudes; Level of influence; Level of authority; Communication needs\",\n",
    "]"
   ]
  },
  {
   "cell_type": "markdown",
   "id": "0c6711d9-3524-4d02-8e89-db08ed8e43c6",
   "metadata": {},
   "source": [
    "The RAG system processes each evaluation question to generate answers while simultaneously collecting the retrieved contexts, creating the complete dataset required for comprehensive RAGAS evaluation with both generated responses and source documents."
   ]
  },
  {
   "cell_type": "markdown",
   "id": "8171fe4e-57ed-4d6e-8d50-494f43d1ec82",
   "metadata": {},
   "source": [
    "The RAG system processes each evaluation question to generate answers while simultaneously collecting the retrieved contexts, creating the complete dataset required for comprehensive Ragas evaluation with both generated responses and source documents."
   ]
  },
  {
   "cell_type": "code",
   "execution_count": 73,
   "id": "b68b6853-6b18-463b-a323-288d695dc5dc",
   "metadata": {},
   "outputs": [
    {
     "name": "stdout",
     "output_type": "stream",
     "text": [
      "Answering the question: What are the core tasks in Requirements Life Cycle Management?\n",
      "Answering the question: Name key outputs of Plan Business Analysis Approach.\n",
      "Answering the question: What are typical elements of stakeholder analysis in BABOK?\n"
     ]
    }
   ],
   "source": [
    "# -----------------------------------------------------------------\n",
    "# Generate Answers and Retrieve Documents for Evaluation Questions\n",
    "# -----------------------------------------------------------------\n",
    "\n",
    "generated_answers = []        \n",
    "retrieved_documents = []      \n",
    "\n",
    "# Iterate over each evaluation question\n",
    "for question in questions:\n",
    "    print(f\"Answering the question: {question}\")\n",
    "    \n",
    "    # Use the simple RAG chain\n",
    "    final_answer = chain.invoke({'question': question})\n",
    "    \n",
    "    # Get the context used (retrieve documents directly)\n",
    "    context_docs = retriever.invoke(question)\n",
    "    context_text = \"\\n\\n\".join([doc.page_content for doc in context_docs])\n",
    "    \n",
    "    # Store the results\n",
    "    generated_answers.append(final_answer)\n",
    "    retrieved_documents.append(context_text)"
   ]
  },
  {
   "cell_type": "code",
   "execution_count": 33,
   "id": "1c4cf0c8-e1b4-42da-86d1-9f7a66104fd6",
   "metadata": {},
   "outputs": [
    {
     "name": "stdout",
     "output_type": "stream",
     "text": [
      "retrieved_documents: ['Requirements Life Cycle Management\\n76\\nComplimentary IIBA® Member Copy. Not\n",
      "for Distribution or Resale.\\nThe states listed \\nhere are not \\nintended to be a \\ncomprehensive\n",
      "\\nlisting.\\nFigure 5.0.1: Requirements Life Cycle Management\\nThe Requirements Life Cycle Management\n",
      "knowledge area includes the following \\ntasks:\\n• Trace Requirements: analyzes and maintains the\n",
      "relationships between \\nrequirements, designs, solution components, and other work products for\n",
      "\\nimpact analysis, coverage, and allocation.\\n• Maintain Requirements: ensures that requirements and\n",
      "designs are \\naccurate and current throughout the life cycle and facilitates reuse where\n",
      "\\nappropriate.\\n• Prioritize Requirements: assesses the value, urgency, and risks associated \\nwith\n",
      "particular requirements and designs to ensure that analysis and/or \\ndelivery work is done on the\n",
      "most important ones at any given time.\\n• Assess Requirements Changes: evaluates new and changing\n",
      "stakeholder \\nrequirements to determine if they need to be acted on within the scope of a\n",
      "\\nchange.\\n• Approve Requirements: works with stakeholders involved in the \\ngovernance process to\n",
      "reach approval and agreement on requirements and \\ndesigns.\\nThe Core Concept Model in Requirements\n",
      "Life Cycle \\nManagement\\nThe Business Analysis Core Concept Model™ (BACCM™) describes the\n",
      "\\nrelationships among the six core concepts.\\nThe following table describes the usage and\n",
      "application of each of the core \\nconcepts within the context of Requirements Life Cycle\n",
      "Management.\\n\\nRequirements Life Cycle Management\\n77\\nComplimentary IIBA® Member Copy. Not for\n",
      "Distribution or Resale.\\nTable 5.0.1: The Core Concept Model in Requirements Life Cycle\n",
      "Management\\nCore Concept During Requirements Life Cycle \\nManagement, business analysts...\\nChange:\n",
      "the act of transformation \\nin response to a need.\\nmanage how proposed changes to \\nrequirements\n",
      "and designs are evaluated \\nduring an initiative.\\nNeed: a problem or opportunity to \\nbe\n",
      "addressed.\\ntrace, prioritize and maintain \\nrequirements to ensure that the need is\n",
      "\\nmet.\\nSolution: a specific way of \\nsatisfying one or more needs in a \\ncontext.\\ntrace\n",
      "requirements and designs to \\nsolution components to ensure that the \\nsolution satisfies the\n",
      "need.\\nStakeholder: a group or \\nindividual with a relationship to \\nthe change, the need, or the\n",
      "\\nsolution.\\nwork closely with key stakeholders to \\nmaintain understanding, agreement, and\n",
      "\\napproval of requirements and designs.\\nValue: the worth, importance, or \\nusefulness of something\n",
      "to a \\nstakeholder within a context.\\nmaintain requirements for reuse to extend \\nvalue beyond the\n",
      "current initiative.\\nContext: the circumstances that \\ninfluence, are influenced by, and \\nprovide\n",
      "understanding of the \\nchange.\\nanalyze the context to support tracing \\nand prioritization\n",
      "activities.\\n\\nRequirements Life Cycle Management\\n78\\nComplimentary IIBA® Member Copy. Not for\n",
      "Distribution or Resale.\\nFigure 5.0.1: Requirements Life Cycle Management Input/Output\n",
      "Diagram\\nTasks\\nOutput\\n5.3\\nPrioritize \\nRequirements\\n5.2\\nMaintain \\nRequirements\\n5.1\\nTrace\n",
      "\\nRequirements\\n5.4\\nAssess \\nRequirements \\nChanges\\n5.5\\nApprove \\nRequirements\\nRequirements\n",
      "Designs Proposed Change \\n7.2\\nRequirements\\n(verified)\\n5.1\\nRequirements (traced)\\n5.1\\nDesigns\n",
      "(traced)\\n5.2 \\nRequirements \\n(maintained)\\n5.3\\nRequirements \\n(prioritized)\\n5.2 \\nDesigns\n",
      "(maintained)\\n5.3\\nDesigns (prioritized)\\n5.4\\nDesigns Change \\nAssessment\\n5.4\\nRequirements Change\n",
      "\\nAssessment\\n5.5\\nRequirements \\n(approved)\\n5.5\\nDesigns (approved)\\nInput\\n\\nWithin the\n",
      "Requirements Life Cycle Management knowledge area, the concept of \\na life cycle is separate from a\n",
      "methodology or process used to govern business \\nanalysis work. Life cycle refers to the existence\n",
      "of various phases or states that \\nrequirements pass through as part of any change. Requirements may\n",
      "be in \\nmultiple states at one time.', 'Business Analysis Planning and Monitoring Plan Business\n",
      "Analysis Approach\\n25\\nComplimentary IIBA® Member Copy. Not for Distribution or Resale.\\nFigure\n",
      "3.1.1: Plan Business Analysis Approach Input/Output Diagram\\nInput\\nGuidelines and Tools\\nTasks\n",
      "Using This Output\\nOutput\\n3.1 Plan Business Analysis \\nApproach\\nBusiness Analysis \\nPerformance\n",
      "Assessment\\n3.1\\nBusiness Analysis \\nApproach\\n3.2\\nPlan Stakeholder \\nEngagement\\nNeeds\\nBusiness\n",
      "Policies\\nExpert Judgment\\nMethodologies and \\nFrameworks\\nStakeholder Engagement\n",
      "\\nApproach\\n3.3\\nPlan Business \\nAnalysis \\nGovernance\\n3.4\\nPlan Business \\nAnalysis \\nInformation\n",
      "\\nManagement\\n3.5\\nIdentify Business \\nAnalysis \\nPerformance \\nImprovements\\n4.1\\nPrepare for\n",
      "\\nElicitation\\n4.2\\nConduct Elicitation\\n4.4\\nCommunicate  \\nBusiness Analysis\n",
      "\\nInformation\\n4.5\\nManage \\nStakeholder \\nCollaboration\\n6.1\\nAnalyze Current \\nState\\n6.3\\nAssess\n",
      "Risks\\n6.4\\nDefine Change \\nStrategy\\n\\nPlan Business Analysis Approach Busine ss Analysis Planning\n",
      "and Monitoring\\n30\\nComplimentary IIBA® Member Copy. Not for Distribution or Resale.\\n• Document\n",
      "Analysis: used to review existing organizational assets that might \\nassist in planning the\n",
      "approach.\\n•E s t i m a t i o n: used to determine how long it may take to perform business\n",
      "\\nanalysis activities.\\n• Financial Analysis: used to assess how different approaches (and the\n",
      "\\nsupported delivery options) affect the value delivered.\\n• Functional Decomposition: used to break\n",
      "down complex business analysis \\nprocesses or approaches into more feasible components.\\n•\n",
      "Interviews: used to help build the plan with an individual or small group.\\n•I t e m  T r a c k i n\n",
      "g: used to track any issues raised during planning activities with \\nstakeholders. Can also track\n",
      "risk related items raised during discussions when \\nbuilding the approach.\\n• Lessons Learned: used\n",
      "to identify an enterprise’s previous experience (both \\nsuccesses and challenges) with planning\n",
      "business analysis approach.\\n• Process Modelling: used to define and document the business analysis\n",
      "\\napproach.\\n•R e v i e w s: used to validate the selected business analysis approach with\n",
      "\\nstakeholders.\\n• Risk Analysis and Management: used to assess risks in order to select the\n",
      "\\nproper business analysis approach.\\n• Scope Modelling: used to determine the boundaries of the\n",
      "solution as an \\ninput to planning and to estimating.\\n\\nBusiness Analysis Planning and\n",
      "Monitoring\\n23\\nComplimentary IIBA® Member Copy. Not for Distribution or Resale.\\nFigure 3.0.1:\n",
      "Business Analysis Planning and Monitoring Input/Output Diagram\\nInput\\nTasks\\n3.3\\nPlan Business\n",
      "\\nAnalysis \\nGovernance\\n3.2\\nPlan Stakeholder \\nEngagement\\n3.1\\nPlan Business \\nAnalysis\n",
      "Approach\\n3.4\\nPlan Business \\nAnalysis \\nInformation \\nManagement\\n3.5\\nIdentify Business\n",
      "\\nAnalysis \\nPerformance \\nImprovements\\nNeeds Performance \\nObjectives (external)\\n3.1\\nBusiness\n",
      "Analysis \\nApproach\\n3.2\\nStakeholder \\nEngagement \\nApproach\\n3.3\\nGovernance\n",
      "Approach\\n3.5\\nBusiness Analysis \\nPerformance \\nAssessment\\n3.4\\nInformation \\nManagement\n",
      "\\nApproach\\nOutput\\n\\nPlan Business Analysis Governance Busi ness Analysis Planning and\n",
      "Monitoring\\n38\\nComplimentary IIBA® Member Copy. Not for Distribution or Resale.\\nFigure 3.3.1: Plan\n",
      "Business Analysis Governance Input/Output Diagram\\n3.3.4 Elements\\n.1 Decision Making\\nDecisions are\n",
      "made throughout the initiative. A stakeholder may serve in various \\nroles in the decision-making\n",
      "process such as:\\n• participant in decision-making discussions,\\n• subject matter expert (SME)\n",
      "lending experience and knowledge to the \\ndecision-making process,\\n• reviewer of information,\n",
      "and\\n• approver of decisions.\\nThe decision-making process defines what happens when teams cannot\n",
      "reach \\nconsensus, by identifying escalation paths and key stakeholders who hold final \\ndecision-\n",
      "making authority.\\nOutput\\nInput\\nGuidelines and Tools\\nTasks Using This Output\\n3.3 Plan Business\n",
      "Analysis \\nGovernance\\nBusiness Analysis \\nPerformance\n",
      "Assessment\\n3.3\\nGovernance\\nApproach\\n3.4\\nPlan Business \\nAnalysis \\nInformation \\nManagement\\n3.2\n",
      "Stakeholder \\nEngagement \\nApproach\\n3.1\\nBusiness Analysis\\nApproach\\nBusiness Policies\\nCurrent\n",
      "State Description\\n5.3\\nPrioritize \\nRequirements\\n5.4\\nAssess \\nRequirements\n",
      "\\nChanges\\n5.5\\nApprove \\nRequirements\\nLegal/Regulatory \\nInformation', \"Business Analysis Key\n",
      "Concepts Stakeholders\\n17\\nComplimentary IIBA® Member Copy. Not for Distribution or Resale.\\nBABOK®\n",
      "Guide does not mandate that these roles be filled for any given \\ninitiative. Any stakeholder can be\n",
      "a source of requirements, assumptions, or \\nconstraints.\\nThis list is not intended to be an\n",
      "exhaustive list of all possible stakeholder \\nclassifications. Some additional examples of people\n",
      "who fit into each of these \\ngeneric roles are listed in the definitions below. In most cases there\n",
      "will be \\nmultiple stakeholder roles found within each category. Similarly, a single \\nindividual\n",
      "may fill more than one role.\\nFor the purpose of the BABOK® Guide, the generic list of stakeholders\n",
      "includes \\nthe following roles:\\n• business analyst,\\n•c u s t o m e r ,\\n• domain subject matter\n",
      "expert,\\n• end user,\\n• implementation subject matter \\nexpert,\\n• operational support,\\n•p r o j e\n",
      "c t  m a n a g e r ,\\n•r e g u l a t o r ,\\n• sponsor,\\n• supplier, and\\n•t e s t e r .\\n2.4.1\n",
      "Business Analyst\\nThe business analyst is inherently a stakeholder in all business analysis\n",
      "activities. \\nThe BABOK® Guide presumes that the business analyst is responsible and \\naccountable\n",
      "for the execution of these activities. In some cases the business \\nanalyst may also be responsible\n",
      "for performing activities that fall under another \\nstakeholder role.\\n2.4.2 Customer\\nA customer\n",
      "uses or may use products or services produced by the enterprise and\\n\\nBusiness Analysis Planning\n",
      "and Monitoring Plan Stakeholder Engagement\\n33\\nComplimentary IIBA® Member Copy. Not for\n",
      "Distribution or Resale.\\nsolution. If stakeholders are not identified, the business analyst may miss\n",
      "\\nuncovering critical needs. Stakeholder needs uncovered late will often require a \\nrevision to\n",
      "business analysis tasks that are either in progress or are completed. \\nThis can result in increased\n",
      "costs and decreased stakeholder satisfaction.\\nHow business analysts perform stakeholder analysis\n",
      "can vary between projects, \\nmethodologies, and organizations. A company’s organizational chart and\n",
      "\\nbusiness processes can serve as an initial source for identifying internal \\nstakeholders. The\n",
      "sponsor may also identify stakeholders. Stakeholders outside \\nthe organization may be identified\n",
      "and can be uncovered by understanding any \\nexisting contracts that may be in place, anticipated\n",
      "vendors that may have a role \\nbased on existing relationships with the organization, as well as\n",
      "regulatory and \\ngoverning bodies that may influence the work. Shareholders, customers, and\n",
      "\\nsuppliers are also considered when searching for external stakeholders.\\nRoles\\nBusiness analysts\n",
      "identify stakeholder roles in order to understand where and \\nhow the stakeholders will contribute\n",
      "to the initiative. It is important that the \\nbusiness analyst is aware of the various roles a\n",
      "stakeholder is responsible for \\nwithin the organization.\\nAttitudes\\n\\nmanaging stakeholders and\n",
      "their expectations is particularly critical. Without \\neffective stakeholder management, process\n",
      "changes may not be successfully \\nimplemented or the changes may not meet the organization's goals\n",
      "and \\nobjectives.\\nBABOK® Guide Techniques\\n• Brainstorming (p. 227)\\n• Document Analysis (p.\n",
      "269)\\n• Focus Groups (p. 279)\\n• Interface Analysis (p. 287)\\n• Interviews (p. 290)\\n• Metrics and\n",
      "Key Performance \\nIndicators (KPIs) (p. 297)\\n• Observation (p. 305)\\n• Process Modelling (p.\n",
      "318)\\n• Prototyping (p. 323)\\n• Reviews (p. 326)\\n• Root Cause Analysis (p. 335)\\n• Scope Modelling\n",
      "(p. 338)\\n• Stakeholder List, Map, or Personas \\n(p. 344)\\n• Survey or Questionnaire (p. 350)\\n• Use\n",
      "Cases and Scenarios (p. 356)\\n• User Stories (p. 359)\\n• Workshops (p. 363)\\nOther Business Analysis\n",
      "Techniques\\n• House of Quality/Voice of Customer\\n\\nIntroduction Structure of the BABOK ®\n",
      "Guide\\n7\\nComplimentary IIBA® Member Copy. Not for Distribution or Resale.\\n.4 Elements\\nThe\n",
      "Elements section describes the key concepts that are needed to understand \\nhow to perform the task.\n",
      "Elements are not mandatory as part of performing a \\ntask, and their usage might depend upon the\n",
      "business analysis approach.\\n.5 Guidelines and Tools\\nThe Guidelines and Tools section lists\n",
      "resources that are required to transform the \\ninput into an output. A guideline provides\n",
      "instructions or descriptions on why or \\nhow to undertake a task. A tool is something used to\n",
      "undertake a task.\\nGuidelines and tools can include outputs of other tasks.\\n.6 Techniques\\nThe\n",
      "Techniques section lists the techniques that can be used to perform the \\nbusiness analysis\n",
      "task.\\n.7 Stakeholders\\nThe Stakeholders section is composed of a generic list of stakeholders who\n",
      "are \\nlikely to participate in performing that task or who will be affected by it. The \\nBABOK\\n®\n",
      "Guide does not mandate that these roles be filled for any given \\ninitiative.\\n.8 Outputs\\nThe\n",
      "Outputs section describes the results produced by performing the task. \\nOutputs are created,\n",
      "transformed, or changed in state as a result of the successful \\ncompletion of a task. An output may\n",
      "be a deliverable or be a part of a larger \\ndeliverable. The form of an output is dependent on the\n",
      "type of initiative \\nunderway, standards adopted by the organization, and best judgment of the\"]\n",
      "generated_answers: ['- Trace Requirements\\n- Maintain Requirements\\n- Prioritize Requirements\\n-\n",
      "Assess Requirements Changes\\n- Approve Requirements', '- Business Analysis Approach\\n\\nThe context\n",
      "does not provide any other outputs for Plan Business Analysis Approach.', 'The context describes\n",
      "these typical elements of stakeholder analysis in the BABOK:\\n\\n- Sources for identifying\n",
      "stakeholders (as listed in the context):\\n  - a company’s organizational chart\\n  - business\n",
      "processes\\n  - the sponsor\\n  - existing contracts\\n  - anticipated vendors (based on existing\n",
      "relationships)\\n  - regulatory and governing bodies\\n  - shareholders\\n  - customers\\n  -\n",
      "suppliers\\n\\n- Stakeholder roles (generic list as given in the context):\\n  - business analyst\\n  -\n",
      "customer\\n  - domain subject matter expert\\n  - end user\\n  - implementation subject matter expert\\n\n",
      "- operational support\\n  - project manager\\n  - regulator\\n  - sponsor\\n  - supplier\\n  -\n",
      "tester\\n\\n- Other elements/considerations mentioned in the context:\\n  - Roles (identify stakeholder\n",
      "roles to understand where and how they will contribute)\\n  - Attitudes\\n\\n- Note from the context:\n",
      "the business analyst is inherently a stakeholder and the BABOK does not mandate that all listed\n",
      "roles be filled for any given initiative.']\n"
     ]
    }
   ],
   "source": [
    "# -----------------------------------------------------------\n",
    "# Display Retrieved Documents and Generated Answers\n",
    "# -----------------------------------------------------------\n",
    "\n",
    "# Print the retrieved documents for each evaluation question in a readable format\n",
    "print(text_wrap(f\"retrieved_documents: {retrieved_documents}\\n\"))\n",
    "\n",
    "# Print the generated answers for each evaluation question in a readable format\n",
    "print(text_wrap(f\"generated_answers: {generated_answers}\"))"
   ]
  },
  {
   "cell_type": "markdown",
   "id": "d156d0a0-e2fd-491d-a36d-33fc0f1fb4fc",
   "metadata": {},
   "source": [
    "This final cell constructs a Hugging Face dataset from the evaluation data, configures multiple Ragas metrics (correctness, faithfulness, relevancy, recall, and similarity), and executes the evaluation using a GPT-5 mini judge model, producing quantitative scores that assess the RAG system's quality across multiple dimensions."
   ]
  },
  {
   "cell_type": "code",
   "execution_count": 74,
   "id": "152de78d-c876-4b15-b12e-f9a2f09282c1",
   "metadata": {},
   "outputs": [
    {
     "data": {
      "application/vnd.jupyter.widget-view+json": {
       "model_id": "98fcd784817b40d0b151835e30fd23dc",
       "version_major": 2,
       "version_minor": 0
      },
      "text/plain": [
       "Evaluating:   0%|          | 0/15 [00:00<?, ?it/s]"
      ]
     },
     "metadata": {},
     "output_type": "display_data"
    },
    {
     "name": "stdout",
     "output_type": "stream",
     "text": [
      "                                          user_input  \\\n",
      "0  What are the core tasks in Requirements Life C...   \n",
      "1  Name key outputs of Plan Business Analysis App...   \n",
      "2  What are typical elements of stakeholder analy...   \n",
      "\n",
      "                                  retrieved_contexts  \\\n",
      "0  [Requirements Life Cycle Management\\n76\\nCompl...   \n",
      "1  [Business Analysis Planning and Monitoring Pla...   \n",
      "2  [Business Analysis Key Concepts Stakeholders\\n...   \n",
      "\n",
      "                                            response  \\\n",
      "0  - Trace Requirements: analyzes and maintains t...   \n",
      "1  The context lists the following key output for...   \n",
      "2  The context shows the following typical elemen...   \n",
      "\n",
      "                                           reference  answer_correctness  \\\n",
      "0  Trace requirements; Maintain requirements; Pri...            0.698098   \n",
      "1  Business analysis approach; Stakeholder engage...            0.355110   \n",
      "2  Stakeholder roles; Stakeholder attitudes; Leve...            0.241194   \n",
      "\n",
      "   faithfulness  answer_relevancy  context_recall  semantic_similarity  \n",
      "0           1.0          0.762849             1.0             0.792393  \n",
      "1           1.0          0.901147             1.0             0.563344  \n",
      "2           1.0          0.939564             0.4             0.551017  \n"
     ]
    }
   ],
   "source": [
    "# ------------------\n",
    "# RAGAS Evaluation\n",
    "# ------------------\n",
    "from datasets import Dataset\n",
    "from ragas import evaluate\n",
    "from ragas.metrics import (\n",
    "    answer_correctness,\n",
    "    faithfulness,\n",
    "    answer_relevancy,\n",
    "    context_recall,\n",
    "    answer_similarity, \n",
    ")\n",
    "from ragas.llms import LangchainLLMWrapper\n",
    "from langchain_openai import ChatOpenAI\n",
    "from langchain_openai import OpenAIEmbeddings\n",
    "\n",
    "JUDGE_MAX_TOKENS = 5000        \n",
    "CTX_MAX_CHARS = 4000         \n",
    "CTX_MAX_PASSAGES = 3          \n",
    "\n",
    "def trim_ctx_list(ctx_list, max_chars=CTX_MAX_CHARS, max_passages=CTX_MAX_PASSAGES):\n",
    "    \"\"\"Ensure list[str], trim each passage, and cap count.\"\"\"\n",
    "    trimmed = [(c or \"\")[:max_chars] for c in ctx_list]\n",
    "    return trimmed[:max_passages]\n",
    "\n",
    "# 1) Prepare data for RAGAS\n",
    "data_samples = {\n",
    "    \"question\": questions,\n",
    "    \"answer\": generated_answers,\n",
    "    \"contexts\": retrieved_documents,     \n",
    "    \"ground_truth\": ground_truth_answers,\n",
    "}\n",
    "\n",
    "# 2) Normalize to list[str] and trim for judge efficiency\n",
    "data_samples[\"contexts\"] = [\n",
    "    trim_ctx_list([c] if isinstance(c, str) else c)\n",
    "    for c in data_samples[\"contexts\"]\n",
    "]\n",
    "\n",
    "# 3) Build HF Dataset\n",
    "dataset = Dataset.from_dict(data_samples)\n",
    "\n",
    "# 4) Metrics (full set; judge used for all except answer_similarity)\n",
    "metrics = [\n",
    "    answer_correctness,\n",
    "    faithfulness,\n",
    "    answer_relevancy,\n",
    "    context_recall,\n",
    "    answer_similarity,\n",
    "]\n",
    "\n",
    "# 5) Judge LLM: GPT-5 mini via LangChain, wrapped for Ragas\n",
    "class Gpt5MiniJudge(LangchainLLMWrapper):\n",
    "    def get_temperature(self, n: int) -> float:\n",
    "        return 1.0  # gpt-5-mini only supports its default\n",
    "\n",
    "judge_llm = Gpt5MiniJudge(\n",
    "    ChatOpenAI(model_name=\"gpt-5-mini\", max_tokens=JUDGE_MAX_TOKENS)\n",
    ")\n",
    "\n",
    "# 6) Embeddings for similarity metric\n",
    "embeddings = OpenAIEmbeddings(model=\"text-embedding-3-small\")\n",
    "\n",
    "# 7) Evaluate with RAGAS\n",
    "score = evaluate(dataset, metrics=metrics, llm=judge_llm, embeddings=embeddings)\n",
    "\n",
    "# 8) Results DataFrame (used downstream)\n",
    "results_df = score.to_pandas()\n",
    "print(results_df)"
   ]
  }
 ],
 "metadata": {
  "kernelspec": {
   "display_name": "Python 3 (ipykernel)",
   "language": "python",
   "name": "python3"
  },
  "language_info": {
   "codemirror_mode": {
    "name": "ipython",
    "version": 3
   },
   "file_extension": ".py",
   "mimetype": "text/x-python",
   "name": "python",
   "nbconvert_exporter": "python",
   "pygments_lexer": "ipython3",
   "version": "3.12.4"
  }
 },
 "nbformat": 4,
 "nbformat_minor": 5
}
