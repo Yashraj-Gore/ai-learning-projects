{
 "cells": [
  {
   "attachments": {},
   "cell_type": "markdown",
   "id": "6e10e125-32f9-40a0-9396-6ba1acc5b98b",
   "metadata": {},
   "source": [
    "This is a step-by-step simplified implementation of a Retrieval-Augmented Generation (RAG) pipeline for business analysis document querying."
   ]
  },
  {
   "cell_type": "markdown",
   "id": "a3f3e8fc-106a-4a27-9db6-676057105b68",
   "metadata": {},
   "source": [
    "In the first step, I set up the configuration for the RAG system, specifying the PDF document (BABOK Guide v3) and the language model (TinyLlama) to be used."
   ]
  },
  {
   "cell_type": "code",
   "execution_count": 53,
   "id": "2aee95ca-bfdc-46b8-8a30-c51ff058c6c7",
   "metadata": {},
   "outputs": [],
   "source": [
    "PDF_FILE = r\"BABOK-Guide-v3-Member.pdf\"\n",
    "MODEL = \"tinyllama\""
   ]
  },
  {
   "cell_type": "markdown",
   "id": "c5baaad9-1987-4c15-b12b-62b434883cd1",
   "metadata": {},
   "source": [
    "All necessary dependencies are installed, including:\r\n",
    "\r\n",
    "LangChain: Core framework for building LLM application\r\n",
    "\r\n",
    "PyPDF: For PDF document processng\r\n",
    "\r\n",
    "FAISS: Vector database for similarity sarch\r\n",
    "\r\n",
    "Sentence Transformers: For creating text embddings\r\n",
    "\r\n",
    "LangChain Ollama: Integration with Ollama models"
   ]
  },
  {
   "cell_type": "code",
   "execution_count": 55,
   "id": "c9b35c5e-8e85-45c7-ae20-172ade67c914",
   "metadata": {},
   "outputs": [
    {
     "name": "stdout",
     "output_type": "stream",
     "text": [
      "Defaulting to user installation because normal site-packages is not writeable\n",
      "Requirement already satisfied: langchain in c:\\users\\goremethi\\appdata\\roaming\\python\\python312\\site-packages (0.3.27)\n",
      "Requirement already satisfied: langchain-community in c:\\users\\goremethi\\appdata\\roaming\\python\\python312\\site-packages (0.3.27)\n",
      "Requirement already satisfied: pypdf in c:\\users\\goremethi\\appdata\\roaming\\python\\python312\\site-packages (5.9.0)\n",
      "Requirement already satisfied: faiss-cpu in c:\\users\\goremethi\\appdata\\roaming\\python\\python312\\site-packages (1.11.0.post1)\n",
      "Requirement already satisfied: sentence-transformers in c:\\users\\goremethi\\appdata\\roaming\\python\\python312\\site-packages (5.0.0)\n",
      "Requirement already satisfied: langchain-ollama in c:\\users\\goremethi\\appdata\\roaming\\python\\python312\\site-packages (0.3.6)\n",
      "Requirement already satisfied: langchain-core<1.0.0,>=0.3.72 in c:\\users\\goremethi\\appdata\\roaming\\python\\python312\\site-packages (from langchain) (0.3.72)\n",
      "Requirement already satisfied: langchain-text-splitters<1.0.0,>=0.3.9 in c:\\users\\goremethi\\appdata\\roaming\\python\\python312\\site-packages (from langchain) (0.3.9)\n",
      "Requirement already satisfied: langsmith>=0.1.17 in c:\\users\\goremethi\\appdata\\roaming\\python\\python312\\site-packages (from langchain) (0.4.10)\n",
      "Requirement already satisfied: pydantic<3.0.0,>=2.7.4 in c:\\users\\goremethi\\appdata\\roaming\\python\\python312\\site-packages (from langchain) (2.11.7)\n",
      "Requirement already satisfied: SQLAlchemy<3,>=1.4 in c:\\programdata\\anaconda3\\lib\\site-packages (from langchain) (2.0.30)\n",
      "Requirement already satisfied: requests<3,>=2 in c:\\users\\goremethi\\appdata\\roaming\\python\\python312\\site-packages (from langchain) (2.32.3)\n",
      "Requirement already satisfied: PyYAML>=5.3 in c:\\programdata\\anaconda3\\lib\\site-packages (from langchain) (6.0.1)\n",
      "Requirement already satisfied: aiohttp<4.0.0,>=3.8.3 in c:\\programdata\\anaconda3\\lib\\site-packages (from langchain-community) (3.9.5)\n",
      "Requirement already satisfied: tenacity!=8.4.0,<10,>=8.1.0 in c:\\programdata\\anaconda3\\lib\\site-packages (from langchain-community) (8.2.2)\n",
      "Requirement already satisfied: dataclasses-json<0.7,>=0.5.7 in c:\\users\\goremethi\\appdata\\roaming\\python\\python312\\site-packages (from langchain-community) (0.6.7)\n",
      "Requirement already satisfied: pydantic-settings<3.0.0,>=2.4.0 in c:\\users\\goremethi\\appdata\\roaming\\python\\python312\\site-packages (from langchain-community) (2.10.1)\n",
      "Requirement already satisfied: httpx-sse<1.0.0,>=0.4.0 in c:\\users\\goremethi\\appdata\\roaming\\python\\python312\\site-packages (from langchain-community) (0.4.1)\n",
      "Requirement already satisfied: numpy>=1.26.2 in c:\\programdata\\anaconda3\\lib\\site-packages (from langchain-community) (1.26.4)\n",
      "Requirement already satisfied: packaging in c:\\programdata\\anaconda3\\lib\\site-packages (from faiss-cpu) (23.2)\n",
      "Requirement already satisfied: transformers<5.0.0,>=4.41.0 in c:\\users\\goremethi\\appdata\\roaming\\python\\python312\\site-packages (from sentence-transformers) (4.54.1)\n",
      "Requirement already satisfied: tqdm in c:\\programdata\\anaconda3\\lib\\site-packages (from sentence-transformers) (4.66.4)\n",
      "Requirement already satisfied: torch>=1.11.0 in c:\\users\\goremethi\\appdata\\roaming\\python\\python312\\site-packages (from sentence-transformers) (2.7.1)\n",
      "Requirement already satisfied: scikit-learn in c:\\programdata\\anaconda3\\lib\\site-packages (from sentence-transformers) (1.4.2)\n",
      "Requirement already satisfied: scipy in c:\\programdata\\anaconda3\\lib\\site-packages (from sentence-transformers) (1.13.1)\n",
      "Requirement already satisfied: huggingface-hub>=0.20.0 in c:\\users\\goremethi\\appdata\\roaming\\python\\python312\\site-packages (from sentence-transformers) (0.34.3)\n",
      "Requirement already satisfied: Pillow in c:\\users\\goremethi\\appdata\\roaming\\python\\python312\\site-packages (from sentence-transformers) (11.1.0)\n",
      "Requirement already satisfied: typing_extensions>=4.5.0 in c:\\users\\goremethi\\appdata\\roaming\\python\\python312\\site-packages (from sentence-transformers) (4.14.1)\n",
      "Requirement already satisfied: ollama<1.0.0,>=0.5.1 in c:\\users\\goremethi\\appdata\\roaming\\python\\python312\\site-packages (from langchain-ollama) (0.5.1)\n",
      "Requirement already satisfied: aiosignal>=1.1.2 in c:\\programdata\\anaconda3\\lib\\site-packages (from aiohttp<4.0.0,>=3.8.3->langchain-community) (1.2.0)\n",
      "Requirement already satisfied: attrs>=17.3.0 in c:\\programdata\\anaconda3\\lib\\site-packages (from aiohttp<4.0.0,>=3.8.3->langchain-community) (23.1.0)\n",
      "Requirement already satisfied: frozenlist>=1.1.1 in c:\\programdata\\anaconda3\\lib\\site-packages (from aiohttp<4.0.0,>=3.8.3->langchain-community) (1.4.0)\n",
      "Requirement already satisfied: multidict<7.0,>=4.5 in c:\\programdata\\anaconda3\\lib\\site-packages (from aiohttp<4.0.0,>=3.8.3->langchain-community) (6.0.4)\n",
      "Requirement already satisfied: yarl<2.0,>=1.0 in c:\\programdata\\anaconda3\\lib\\site-packages (from aiohttp<4.0.0,>=3.8.3->langchain-community) (1.9.3)\n",
      "Requirement already satisfied: marshmallow<4.0.0,>=3.18.0 in c:\\users\\goremethi\\appdata\\roaming\\python\\python312\\site-packages (from dataclasses-json<0.7,>=0.5.7->langchain-community) (3.26.1)\n",
      "Requirement already satisfied: typing-inspect<1,>=0.4.0 in c:\\users\\goremethi\\appdata\\roaming\\python\\python312\\site-packages (from dataclasses-json<0.7,>=0.5.7->langchain-community) (0.9.0)\n",
      "Requirement already satisfied: filelock in c:\\programdata\\anaconda3\\lib\\site-packages (from huggingface-hub>=0.20.0->sentence-transformers) (3.13.1)\n",
      "Requirement already satisfied: fsspec>=2023.5.0 in c:\\programdata\\anaconda3\\lib\\site-packages (from huggingface-hub>=0.20.0->sentence-transformers) (2024.3.1)\n",
      "Requirement already satisfied: jsonpatch<2.0,>=1.33 in c:\\programdata\\anaconda3\\lib\\site-packages (from langchain-core<1.0.0,>=0.3.72->langchain) (1.33)\n",
      "Requirement already satisfied: httpx<1,>=0.23.0 in c:\\users\\goremethi\\appdata\\roaming\\python\\python312\\site-packages (from langsmith>=0.1.17->langchain) (0.28.1)\n",
      "Requirement already satisfied: orjson>=3.9.14 in c:\\users\\goremethi\\appdata\\roaming\\python\\python312\\site-packages (from langsmith>=0.1.17->langchain) (3.11.1)\n",
      "Requirement already satisfied: requests-toolbelt>=1.0.0 in c:\\programdata\\anaconda3\\lib\\site-packages (from langsmith>=0.1.17->langchain) (1.0.0)\n",
      "Requirement already satisfied: zstandard>=0.23.0 in c:\\users\\goremethi\\appdata\\roaming\\python\\python312\\site-packages (from langsmith>=0.1.17->langchain) (0.23.0)\n",
      "Requirement already satisfied: annotated-types>=0.6.0 in c:\\programdata\\anaconda3\\lib\\site-packages (from pydantic<3.0.0,>=2.7.4->langchain) (0.6.0)\n",
      "Requirement already satisfied: pydantic-core==2.33.2 in c:\\users\\goremethi\\appdata\\roaming\\python\\python312\\site-packages (from pydantic<3.0.0,>=2.7.4->langchain) (2.33.2)\n",
      "Requirement already satisfied: typing-inspection>=0.4.0 in c:\\users\\goremethi\\appdata\\roaming\\python\\python312\\site-packages (from pydantic<3.0.0,>=2.7.4->langchain) (0.4.1)\n",
      "Requirement already satisfied: python-dotenv>=0.21.0 in c:\\programdata\\anaconda3\\lib\\site-packages (from pydantic-settings<3.0.0,>=2.4.0->langchain-community) (0.21.0)\n",
      "Requirement already satisfied: charset-normalizer<4,>=2 in c:\\programdata\\anaconda3\\lib\\site-packages (from requests<3,>=2->langchain) (2.0.4)\n",
      "Requirement already satisfied: idna<4,>=2.5 in c:\\programdata\\anaconda3\\lib\\site-packages (from requests<3,>=2->langchain) (3.7)\n",
      "Requirement already satisfied: urllib3<3,>=1.21.1 in c:\\programdata\\anaconda3\\lib\\site-packages (from requests<3,>=2->langchain) (2.2.2)\n",
      "Requirement already satisfied: certifi>=2017.4.17 in c:\\programdata\\anaconda3\\lib\\site-packages (from requests<3,>=2->langchain) (2024.7.4)\n",
      "Requirement already satisfied: greenlet!=0.4.17 in c:\\programdata\\anaconda3\\lib\\site-packages (from SQLAlchemy<3,>=1.4->langchain) (3.0.1)\n",
      "Requirement already satisfied: sympy>=1.13.3 in c:\\users\\goremethi\\appdata\\roaming\\python\\python312\\site-packages (from torch>=1.11.0->sentence-transformers) (1.14.0)\n",
      "Requirement already satisfied: networkx in c:\\programdata\\anaconda3\\lib\\site-packages (from torch>=1.11.0->sentence-transformers) (3.2.1)\n",
      "Requirement already satisfied: jinja2 in c:\\programdata\\anaconda3\\lib\\site-packages (from torch>=1.11.0->sentence-transformers) (3.1.4)\n",
      "Requirement already satisfied: setuptools in c:\\programdata\\anaconda3\\lib\\site-packages (from torch>=1.11.0->sentence-transformers) (69.5.1)\n",
      "Requirement already satisfied: colorama in c:\\programdata\\anaconda3\\lib\\site-packages (from tqdm->sentence-transformers) (0.4.6)\n",
      "Requirement already satisfied: regex!=2019.12.17 in c:\\programdata\\anaconda3\\lib\\site-packages (from transformers<5.0.0,>=4.41.0->sentence-transformers) (2023.10.3)\n",
      "Requirement already satisfied: tokenizers<0.22,>=0.21 in c:\\users\\goremethi\\appdata\\roaming\\python\\python312\\site-packages (from transformers<5.0.0,>=4.41.0->sentence-transformers) (0.21.4)\n",
      "Requirement already satisfied: safetensors>=0.4.3 in c:\\users\\goremethi\\appdata\\roaming\\python\\python312\\site-packages (from transformers<5.0.0,>=4.41.0->sentence-transformers) (0.5.3)\n",
      "Requirement already satisfied: joblib>=1.2.0 in c:\\programdata\\anaconda3\\lib\\site-packages (from scikit-learn->sentence-transformers) (1.4.2)\n",
      "Requirement already satisfied: threadpoolctl>=2.0.0 in c:\\programdata\\anaconda3\\lib\\site-packages (from scikit-learn->sentence-transformers) (2.2.0)\n",
      "Requirement already satisfied: anyio in c:\\programdata\\anaconda3\\lib\\site-packages (from httpx<1,>=0.23.0->langsmith>=0.1.17->langchain) (4.2.0)\n",
      "Requirement already satisfied: httpcore==1.* in c:\\programdata\\anaconda3\\lib\\site-packages (from httpx<1,>=0.23.0->langsmith>=0.1.17->langchain) (1.0.2)\n",
      "Requirement already satisfied: h11<0.15,>=0.13 in c:\\programdata\\anaconda3\\lib\\site-packages (from httpcore==1.*->httpx<1,>=0.23.0->langsmith>=0.1.17->langchain) (0.14.0)\n",
      "Requirement already satisfied: jsonpointer>=1.9 in c:\\programdata\\anaconda3\\lib\\site-packages (from jsonpatch<2.0,>=1.33->langchain-core<1.0.0,>=0.3.72->langchain) (2.1)\n",
      "Requirement already satisfied: mpmath<1.4,>=1.1.0 in c:\\programdata\\anaconda3\\lib\\site-packages (from sympy>=1.13.3->torch>=1.11.0->sentence-transformers) (1.3.0)\n",
      "Requirement already satisfied: mypy-extensions>=0.3.0 in c:\\programdata\\anaconda3\\lib\\site-packages (from typing-inspect<1,>=0.4.0->dataclasses-json<0.7,>=0.5.7->langchain-community) (1.0.0)\n",
      "Requirement already satisfied: MarkupSafe>=2.0 in c:\\programdata\\anaconda3\\lib\\site-packages (from jinja2->torch>=1.11.0->sentence-transformers) (2.1.3)\n",
      "Requirement already satisfied: sniffio>=1.1 in c:\\programdata\\anaconda3\\lib\\site-packages (from anyio->httpx<1,>=0.23.0->langsmith>=0.1.17->langchain) (1.3.0)\n"
     ]
    }
   ],
   "source": [
    "!pip install langchain langchain-community pypdf faiss-cpu sentence-transformers langchain-ollama"
   ]
  },
  {
   "cell_type": "markdown",
   "id": "503ca893-6d6a-4e0d-9d6b-4d9af000fba1",
   "metadata": {},
   "source": [
    "Next, I use PyPDFLoader to extract text from the 514-page BABOK PDF document, converting each page into a document object with metadata."
   ]
  },
  {
   "cell_type": "code",
   "execution_count": 57,
   "id": "e0e5d175-967c-4f71-bd46-01b364001617",
   "metadata": {},
   "outputs": [
    {
     "name": "stdout",
     "output_type": "stream",
     "text": [
      "Number of pages: 514\n",
      "Length of a page: 0\n",
      "Content of a page: \n"
     ]
    }
   ],
   "source": [
    "from langchain_community.document_loaders import PyPDFLoader\n",
    "\n",
    "loader = PyPDFLoader(PDF_FILE)\n",
    "pages = loader.load()\n",
    "\n",
    "print(f\"Number of pages: {len(pages)}\")\n",
    "print(f\"Length of a page: {len(pages[1].page_content)}\")\n",
    "print(\"Content of a page:\", pages[1].page_content)"
   ]
  },
  {
   "cell_type": "markdown",
   "id": "7454ebe3-6418-42b4-9127-9e88a3745435",
   "metadata": {},
   "source": [
    "The large document is broken down into smaller, manageable chunks of 1,500 characters with 100-character overlap.This creates 949 chunks that are optimal for embedding and retrieval."
   ]
  },
  {
   "cell_type": "code",
   "execution_count": 59,
   "id": "763bd9ec-a704-4704-b929-f0e56f92e800",
   "metadata": {},
   "outputs": [
    {
     "name": "stdout",
     "output_type": "stream",
     "text": [
      "Number of chunks: 949\n",
      "Length of a chunk: 62\n",
      "Content of a chunk: BABOK\n",
      "®\n",
      "v3\n",
      "A GUIDE TO THE BUSINESS ANALYSIS\n",
      "BODY OF KNOWLEDGE®\n"
     ]
    }
   ],
   "source": [
    "from langchain_text_splitters import RecursiveCharacterTextSplitter\n",
    "\n",
    "splitter = RecursiveCharacterTextSplitter(chunk_size=1500, chunk_overlap=100)\n",
    "\n",
    "chunks = splitter.split_documents(pages)\n",
    "print(f\"Number of chunks: {len(chunks)}\")\n",
    "print(f\"Length of a chunk: {len(chunks[1].page_content)}\")\n",
    "print(\"Content of a chunk:\", chunks[1].page_content)"
   ]
  },
  {
   "cell_type": "markdown",
   "id": "5382b3da-34ad-4330-a55e-44b0baa28076",
   "metadata": {},
   "source": [
    "Creates numerical embeddings for each text chunk using the MiniLM sentence transformer model, then stores them in a FAISS vector database for efficient similarity search."
   ]
  },
  {
   "cell_type": "code",
   "execution_count": 61,
   "id": "661fcef7-2c7f-4f2a-83f3-b25b7d7ebc58",
   "metadata": {},
   "outputs": [
    {
     "name": "stderr",
     "output_type": "stream",
     "text": [
      "C:\\Users\\GoreMethi\\AppData\\Roaming\\Python\\Python312\\site-packages\\torch\\nn\\modules\\module.py:1762: FutureWarning: `encoder_attention_mask` is deprecated and will be removed in version 4.55.0 for `BertSdpaSelfAttention.forward`.\n",
      "  return forward_call(*args, **kwargs)\n"
     ]
    }
   ],
   "source": [
    "from langchain.vectorstores import FAISS\n",
    "from langchain.embeddings import HuggingFaceEmbeddings\n",
    "\n",
    "embeddings = HuggingFaceEmbeddings(model_name=\"sentence-transformers/all-MiniLM-L6-v2\")\n",
    "vectorstore = FAISS.from_documents(chunks, embeddings)"
   ]
  },
  {
   "cell_type": "markdown",
   "id": "a2608959-d207-47e7-837b-29f6df25c10f",
   "metadata": {},
   "source": [
    "To test the retrieval system, I search for relevant document chunks about \"requirement elicitation\" and expect it to return the top matching results with metadata."
   ]
  },
  {
   "cell_type": "code",
   "execution_count": 63,
   "id": "4dd2066c-ea5a-4b21-b451-3def102396c7",
   "metadata": {},
   "outputs": [
    {
     "name": "stderr",
     "output_type": "stream",
     "text": [
      "C:\\Users\\GoreMethi\\AppData\\Roaming\\Python\\Python312\\site-packages\\torch\\nn\\modules\\module.py:1762: FutureWarning: `encoder_attention_mask` is deprecated and will be removed in version 4.55.0 for `BertSdpaSelfAttention.forward`.\n",
      "  return forward_call(*args, **kwargs)\n"
     ]
    },
    {
     "data": {
      "text/plain": [
       "[Document(id='11d85d5b-6385-4b7d-94f0-6fde8ced36cc', metadata={'producer': 'Acrobat Distiller 11.0 (Windows)', 'creator': 'FrameMaker 12.0.2', 'creationdate': '2015-11-26T10:29:02+00:00', 'author': 'IIBA', 'moddate': '2020-03-27T14:56:48+07:00', 'title': 'BABOK Guide v3', 'webstatement': 'www.iiba.org', 'source': 'BABOK-Guide-v3-Member.pdf', 'total_pages': 514, 'page': 70, 'page_label': '71'}, page_content='from people or documents—because it is unknown. Experiments can help \\ndiscover this kind of information. Experiments include observational studies, \\nproofs of concept, and prototypes.\\nOne or more elicitation techniques may be used to produce the desired outcome \\nwithin the scope of elicitation.\\nStakeholders may collaborate in elicitation by:\\n• participating and interacting during the elicitation activity, and\\n• researching, studying, and providing feedback on documents, systems, \\nmodels, and interfaces.\\n4.2.3 Inputs\\n• Elicitation Activity Plan: includes the planned elicitation activities and \\ntechniques, activity logistics (for example, date, time, location, resources,'),\n",
       " Document(id='91b179ff-ba03-4b5f-bda7-1b425bc77801', metadata={'producer': 'Acrobat Distiller 11.0 (Windows)', 'creator': 'FrameMaker 12.0.2', 'creationdate': '2015-11-26T10:29:02+00:00', 'author': 'IIBA', 'moddate': '2020-03-27T14:56:48+07:00', 'title': 'BABOK Guide v3', 'webstatement': 'www.iiba.org', 'source': 'BABOK-Guide-v3-Member.pdf', 'total_pages': 514, 'page': 74, 'page_label': '75'}, page_content='Elicitation and Collaboration Confirm Elicitation Results\\n65\\nComplimentary IIBA® Member Copy. Not for Distribution or Resale.\\nassists the business analyst in identifying appropriate research sources, and may \\nhelp to arrange research, experiments, and facilitated elicitation.\\n• End User: the user of existing and future solutions, who should participate in \\nelicitation.\\n• Implementation Subject Matter Expert: designs and implements a solution \\nand provides specialist expertise, and can participate in elicitation by asking \\nclarifying questions and offering alternatives.\\n• Sponsor: authorizes and ensures that the stakeholders necessary to participate \\nin elicitation are involved.\\n• Any stakeholders: could have relevant knowledge or experience to participate \\nin elicitation activities.\\n4.2.8 Outputs\\n• Elicitation Results (unconfirmed): captured information in a format that is \\nspecific to the elicitation activity.\\n4.3 Confirm Elicitation Results\\n4.3.1 Purpose\\nThe purpose of Confirm Elicitation Results is to check the information gathered \\nduring an elicitation session for accuracy and consistency with other information.\\n4.3.2 Description\\nElicited information is confirmed to identify any problems and resolve them \\nbefore resources are committed to using the information. This review may \\ndiscover errors, omissions, conflicts, and ambiguity.\\nThe elicitation results can be compared against their source and other elicitation'),\n",
       " Document(id='c518cdc8-de50-4556-9f10-302739a7fb75', metadata={'producer': 'Acrobat Distiller 11.0 (Windows)', 'creator': 'FrameMaker 12.0.2', 'creationdate': '2015-11-26T10:29:02+00:00', 'author': 'IIBA', 'moddate': '2020-03-27T14:56:48+07:00', 'title': 'BABOK Guide v3', 'webstatement': 'www.iiba.org', 'source': 'BABOK-Guide-v3-Member.pdf', 'total_pages': 514, 'page': 66, 'page_label': '67'}, page_content=\"Elicitation and Collaboration Prepare for Elicitation\\n57\\nComplimentary IIBA® Member Copy. Not for Distribution or Resale.\\n4.1.2 Description\\nBusiness analysts prepare for elicitation by defining the desired outcomes of the \\nactivity, considering the stakeholders involved and the goals of the initiative. This \\nincludes determining which work products will be produced using the elicitation \\nresults, deciding which techniques are best suited to produce those results, \\nestablishing the elicitation logistics, identifying any supporting materials needed, \\nand understanding circumstances to foster collaboration during an elicitation \\nactivity.\\n4.1.3 Inputs\\n•N e e d s: guides the preparation in terms of the scope and purpose of elicitation \\nactivities. Elicitation can be used to discover the needs, but in order to get \\nstarted there must be some need that exists—even if it has not yet been fully \\nelicited or understood.\\n• Stakeholder Engagement Approach: understanding stakeholders' \\ncommunication and collaboration needs helps plan and prepare appropriate \\nand effective elicitation events.\\nFigure 4.1.1: Prepare for Elicitation Input/Output Diagram\\nTasks Using This Output\\nOutput\\n4.1 Prepare for Elicitation\\nBusiness Analysis Approach\\n4.1\\nElicitation\\nActivity Plan\\n4.2\\nConduct Elicitation\\n3.2\\nStakeholder \\nEngagement \\nApproach\\nNeeds\\nBusiness Objectives\\nExisting Business Analysis \\nInformation\\nPotential Value\\n4.3\\nConfirm Elicitation \\nResults\\nGuidelines and Tools\\nInput\"),\n",
       " Document(id='0b428676-23e4-4dae-8835-8ab304f01ba3', metadata={'producer': 'Acrobat Distiller 11.0 (Windows)', 'creator': 'FrameMaker 12.0.2', 'creationdate': '2015-11-26T10:29:02+00:00', 'author': 'IIBA', 'moddate': '2020-03-27T14:56:48+07:00', 'title': 'BABOK Guide v3', 'webstatement': 'www.iiba.org', 'source': 'BABOK-Guide-v3-Member.pdf', 'total_pages': 514, 'page': 63, 'page_label': '64'}, page_content='Elicitation and Collaboration\\n54\\nComplimentary IIBA® Member Copy. Not for Distribution or Resale.\\nThe Elicitation and Collaboration knowledge area is composed of the following \\ntasks:\\n• Prepare for Elicitation: involves ensuring that the stakeholders have the \\ninformation they need to provide and that they understand the nature of \\nthe activities they are going to perform. It also sets a shared set of \\nexpectations regarding the outcomes of the activity. Preparation may also \\ninvolve identifying research sources or preparing to conduct an experiment \\nto see if a process change actually results in an improvement.\\n• Conduct Elicitation: describes the work performed to understand \\nstakeholder needs and identify potential solutions that may meet those \\nneeds. This may involve direct interaction with stakeholders, doing research, \\nor running experiments.\\n• Confirm Elicitation Results: involves ensuring that stakeholders have a \\nshared understanding of the outcomes of elicitation, that elicited \\ninformation is recorded appropriately, and that the business analyst has the \\ninformation sought from an elicitation activity. This task also involves \\ncomparing the information received with other information to look for \\ninconsistencies or gaps.\\n• Communicate Business Analysis Information: provides stakeholders \\nwith the information they need, at the time they need it. The information is \\npresented in a useful form, using the right terminology and concepts.')]"
      ]
     },
     "execution_count": 63,
     "metadata": {},
     "output_type": "execute_result"
    }
   ],
   "source": [
    "retriever = vectorstore.as_retriever()\n",
    "retriever.invoke(\"What is requirement elicitation?\")"
   ]
  },
  {
   "cell_type": "markdown",
   "id": "a0cbdf0b-33d2-4136-93a4-41904aaafa55",
   "metadata": {},
   "source": [
    "Initialized the TinyLlama language model through Ollama with zero temperature to fetch deterministic responses."
   ]
  },
  {
   "cell_type": "code",
   "execution_count": 67,
   "id": "1b1f43bb-7397-4e95-9266-9a23f35df276",
   "metadata": {},
   "outputs": [
    {
     "data": {
      "text/plain": [
       "AIMessage(content=\"1. Product Owner: The product owner is the primary stakeholder involved in requirements gathering. They are responsible for defining the requirements and ensuring that they align with the business goals and objectives.\\n\\n2. Business Analysts (BAs): BAs are responsible for translating the product owner's requirements into technical specifications, which are then used to create a detailed requirement specification document.\\n\\n3. Designers: Designers are responsible for creating user-friendly interfaces and visual designs that align with the requirements. They also help in creating wireframes and prototypes.\\n\\n4. Developers: Developers are responsible for implementing the requirements into software code. They work closely with designers to ensure that the software meets the requirements.\\n\\n5. Testers: Testers are responsible for testing the software to ensure that it meets the requirements. They also help in identifying and fixing any bugs or issues that arise during development.\\n\\n6. Operations: Operations is responsible for ensuring that the software is deployed and running smoothly. They work closely with developers to ensure that the software meets the requirements and is ready for production.\\n\\n7. Marketing: Marketing is responsible for promoting the software to customers. They work closely with operations to ensure that marketing efforts align with the requirements.\\n\\n8. Sales: Sales is responsible for selling the software to customers. They work closely with marketing to ensure that sales efforts align with the requirements.\\n\\n9. Customer Service: Customer service is responsible for providing support and resolving customer issues. They work closely with operations to ensure that customer support efforts align with the requirements.\\n\\n10. Legal: Legal is responsible for ensuring that the software meets legal requirements, such as privacy and security standards.\", additional_kwargs={}, response_metadata={'model': 'tinyllama', 'created_at': '2025-08-02T21:58:51.1973913Z', 'done': True, 'done_reason': 'stop', 'total_duration': 15730875000, 'load_duration': 20152500, 'prompt_eval_count': 50, 'prompt_eval_duration': 339662000, 'eval_count': 375, 'eval_duration': 15369990200, 'model_name': 'tinyllama'}, id='run--9ea90df8-da13-46eb-83a8-1e0d2379d2ce-0', usage_metadata={'input_tokens': 50, 'output_tokens': 375, 'total_tokens': 425})"
      ]
     },
     "execution_count": 67,
     "metadata": {},
     "output_type": "execute_result"
    }
   ],
   "source": [
    "from langchain_ollama import ChatOllama\n",
    "\n",
    "model = ChatOllama(model=MODEL, temperature=0)\n",
    "model.invoke(\"Create a list of important stakeholders to consider in requirement gathering\")"
   ]
  },
  {
   "cell_type": "markdown",
   "id": "f9ee7ed3-c8c1-444f-9d7f-d7dd9749c2fc",
   "metadata": {},
   "source": [
    "Sets up a simple chain that processes model output into clean string format for better readability and tests the chain with a sample question about stakeholders"
   ]
  },
  {
   "cell_type": "code",
   "execution_count": 69,
   "id": "5f91009b-c3bd-46ba-9d96-5b0efd8302b4",
   "metadata": {},
   "outputs": [
    {
     "name": "stdout",
     "output_type": "stream",
     "text": [
      "1. Product Owner: The product owner is the primary stakeholder involved in requirements gathering. They are responsible for defining the requirements and ensuring that they align with the business goals and objectives.\n",
      "\n",
      "2. Business Analysts: Business analysts are responsible for gathering requirements from various departments within the organization. They work closely with product owners to understand the business needs and translate them into requirements.\n",
      "\n",
      "3. User Experts: User experts are involved in testing and validating the requirements. They test the requirements against real-life scenarios and provide feedback on how they can be improved.\n",
      "\n",
      "4. Designers: Designers work with product owners to create user interfaces, wireframes, and prototypes that demonstrate the functionality of the system.\n",
      "\n",
      "5. Developers: Developers are responsible for creating the software components required to implement the requirements. They work closely with designers to ensure that the software meets the requirements.\n",
      "\n",
      "6. Testers: Testers are responsible for testing the software to ensure that it meets the requirements and is functioning correctly.\n",
      "\n",
      "7. Operations: Operations is responsible for ensuring that the system is running smoothly and meeting the business needs. They monitor the system's performance, identify issues, and take corrective action as needed.\n",
      "\n",
      "8. Marketing: Marketing is involved in promoting the software to potential customers. They work with operations to ensure that marketing efforts align with the requirements.\n",
      "\n",
      "9. Legal: Legal is responsible for ensuring that the software meets legal requirements, such as data privacy and security.\n",
      "\n",
      "10. Finance: Finance is involved in budgeting and forecasting, which involves gathering requirements from various departments within the organization.\n"
     ]
    }
   ],
   "source": [
    "from langchain_core.output_parsers import StrOutputParser\n",
    "\n",
    "parser = StrOutputParser()\n",
    "\n",
    "chain = model | parser \n",
    "print(chain.invoke(\"Create a list of important stakeholders to consider in requirement gathering\"))"
   ]
  },
  {
   "cell_type": "markdown",
   "id": "0b417573-cc9e-4a37-ad44-e63595fe0b53",
   "metadata": {},
   "source": [
    "Created a structured prompt template that instructs the model to act as a business analyst assistant and only answer based on provided context."
   ]
  },
  {
   "cell_type": "code",
   "execution_count": 71,
   "id": "7e96d769-b181-40f8-805a-c15a3f22b7ad",
   "metadata": {},
   "outputs": [
    {
     "name": "stdout",
     "output_type": "stream",
     "text": [
      "\n",
      "You are a business analyst assistant that provides answers to questions based on\n",
      "the information given via context. \n",
      "\n",
      "Answer the question based on the context. If you can't answer the\n",
      "question, reply \"I don't know\".\n",
      "\n",
      "Be as concise as possible and go straight to the point.\n",
      "\n",
      "Context: Here is some context\n",
      "\n",
      "Question: Here is a question\n",
      "\n"
     ]
    }
   ],
   "source": [
    "from langchain.prompts import PromptTemplate\n",
    "\n",
    "template = \"\"\"\n",
    "You are a business analyst assistant that provides answers to questions based on\n",
    "the information given via context. \n",
    "\n",
    "Answer the question based on the context. If you can't answer the\n",
    "question, reply \"I don't know\".\n",
    "\n",
    "Be as concise as possible and go straight to the point.\n",
    "\n",
    "Context: {context}\n",
    "\n",
    "Question: {question}\n",
    "\"\"\"\n",
    "\n",
    "prompt = PromptTemplate.from_template(template)\n",
    "print(prompt.format(context=\"Here is some context\", question=\"Here is a question\"))"
   ]
  },
  {
   "cell_type": "markdown",
   "id": "5799c017-85cb-4a69-8bfb-e499056402e0",
   "metadata": {},
   "source": [
    "Tests the prompt template with a simple example to verify the chain works correctly.\n",
    "However, as you can see the test fails due to several below possible reasons, \n",
    "1. Model limitations (TinyLlama is very small)\n",
    "tinyllama is only 1.1B parameters, which is very tiny by LLM standards. It has limited reasoning ability, so it may not understand relational logic like:\n",
    "“Pankaj is married to Pallavi, then Pallavi is married to Pankaj”\n",
    "\n",
    "2. The context isn't reinforced well in the prompt\n",
    "Without a carefully worded prompt, small models struggle to \"bind\" context and question together.\n",
    "\n",
    "3. No RAG behavior is involved yet\n",
    "This test doesn’t use retrieval. It’s just testing if the model can reason with a short given context, which is more like a closed-book quiz for a very small model"
   ]
  },
  {
   "cell_type": "code",
   "execution_count": 75,
   "id": "9f55a663-99dd-4516-9dd0-31784a49cc06",
   "metadata": {},
   "outputs": [
    {
     "data": {
      "text/plain": [
       "'Answer: Pankaj is not married.'"
      ]
     },
     "execution_count": 75,
     "metadata": {},
     "output_type": "execute_result"
    }
   ],
   "source": [
    "chain = prompt | model | parser\n",
    "\n",
    "chain.invoke({\n",
    "    \"context\": \"Pankaj is married to Pallavi\", \n",
    "    \"question\": \"Who is Pallavi married to?\"\n",
    "})"
   ]
  },
  {
   "cell_type": "markdown",
   "id": "1aaa4fea-1559-4a2a-a549-a0d34be04a75",
   "metadata": {},
   "source": [
    "This is the core RAG pipeline that:\n",
    "\n",
    "Takes a question as input\n",
    "Uses the retriever to find relevant document chunks (context)\n",
    "Combines the context and question in the prompt template\n",
    "Sends to the language model for generation\n",
    "Parses the output into a clean string"
   ]
  },
  {
   "cell_type": "code",
   "execution_count": 77,
   "id": "09ef35ee-a873-4809-bb58-3224be47d82c",
   "metadata": {},
   "outputs": [],
   "source": [
    "from operator import itemgetter\n",
    "\n",
    "chain = (\n",
    "    {\n",
    "        \"context\": itemgetter(\"question\") | retriever,\n",
    "        \"question\": itemgetter(\"question\"),\n",
    "    }\n",
    "    | prompt\n",
    "    | model\n",
    "    | parser\n",
    ")"
   ]
  },
  {
   "cell_type": "markdown",
   "id": "ca3c343e-1d0c-4b25-a452-69c32f942205",
   "metadata": {},
   "source": [
    "Tests the complete RAG system with a business analysis question about \"Business Planning and Monitoring phase challenges\" and demonstrates the full workflow from question to answer."
   ]
  },
  {
   "cell_type": "code",
   "execution_count": 79,
   "id": "cb8fc449-01b6-4be1-8a04-4f16f1130443",
   "metadata": {},
   "outputs": [
    {
     "name": "stdout",
     "output_type": "stream",
     "text": [
      "Question: What are main challenges in Business Planning and Monitoring phase?\n"
     ]
    },
    {
     "name": "stderr",
     "output_type": "stream",
     "text": [
      "C:\\Users\\GoreMethi\\AppData\\Roaming\\Python\\Python312\\site-packages\\torch\\nn\\modules\\module.py:1762: FutureWarning: `encoder_attention_mask` is deprecated and will be removed in version 4.55.0 for `BertSdpaSelfAttention.forward`.\n",
      "  return forward_call(*args, **kwargs)\n"
     ]
    },
    {
     "name": "stdout",
     "output_type": "stream",
     "text": [
      "Answer: The main challenges in the Business Planning and Monitoring phase include:\n",
      "1. Identifying gap(s) and needs: The business analyist must identify gaps or needs that exist within the current state of a process, function, or system. This requires understanding the current situation and identifying areas where improvements can be made.\n",
      "2. Defining alternative solutions: Once gaps are identified, the business analyist must define alternative solutions to address them. This involves considering various options and selecting the most appropriate one based on their feasibility, cost-effectiveness, and other relevant factors.\n",
      "3. Evaluating alternatives: The business analyist evaluates the alternatives by comparing their benefits and drawbacks. They also consider the potential impact of each alternative on stakeholders and the wider organization.\n",
      "4. Selecting a solution: Once all alternatives have been evaluated, the business analyist selects the most appropriate solution based on its feasibility, cost-effectiveness, and other relevant factors.\n",
      "5. Implementing the solution: The implementation phase involves implementing the selected solution. This may involve hiring additional staff or resources, changing processes or systems, or making changes to organizational structures.\n",
      "6. Monitoring and evaluating effectiveness: The business analyist must monitor and evaluate the effectiveness of the implemented solution over time. This involves tracking key performance indicators (KPIs) and comparing them against expectations.\n",
      "7. Continuous improvement: Finally, the business analyist must continuously improve the solution based on feedback and lessons learned from the implementation phase.\n",
      "*************************\n",
      "\n"
     ]
    }
   ],
   "source": [
    "questions = [\n",
    "    \"What are main challenges in Business Planning and Monitoring phase?\",\n",
    "]\n",
    "\n",
    "for question in questions:\n",
    "    print(f\"Question: {question}\")\n",
    "    print(f\"Answer: {chain.invoke({'question': question})}\")\n",
    "    print(\"*************************\\n\")\n",
    "     "
   ]
  }
 ],
 "metadata": {
  "kernelspec": {
   "display_name": "Python 3 (ipykernel)",
   "language": "python",
   "name": "python3"
  },
  "language_info": {
   "codemirror_mode": {
    "name": "ipython",
    "version": 3
   },
   "file_extension": ".py",
   "mimetype": "text/x-python",
   "name": "python",
   "nbconvert_exporter": "python",
   "pygments_lexer": "ipython3",
   "version": "3.12.4"
  }
 },
 "nbformat": 4,
 "nbformat_minor": 5
}
